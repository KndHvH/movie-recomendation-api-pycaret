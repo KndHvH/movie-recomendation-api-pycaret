{
 "cells": [
  {
   "cell_type": "code",
   "execution_count": 44,
   "metadata": {},
   "outputs": [],
   "source": [
    "# install pycaret\n",
    "import pandas as pd\n",
    "import nltk\n",
    "from nltk.corpus import stopwords\n",
    "from pycaret.anomaly import *\n",
    "from sklearn.feature_extraction.text import TfidfVectorizer\n",
    "from sklearn.neighbors import NearestNeighbors\n"
   ]
  },
  {
   "cell_type": "code",
   "execution_count": 13,
   "metadata": {},
   "outputs": [
    {
     "data": {
      "text/html": [
       "<div>\n",
       "<style scoped>\n",
       "    .dataframe tbody tr th:only-of-type {\n",
       "        vertical-align: middle;\n",
       "    }\n",
       "\n",
       "    .dataframe tbody tr th {\n",
       "        vertical-align: top;\n",
       "    }\n",
       "\n",
       "    .dataframe thead th {\n",
       "        text-align: right;\n",
       "    }\n",
       "</style>\n",
       "<table border=\"1\" class=\"dataframe\">\n",
       "  <thead>\n",
       "    <tr style=\"text-align: right;\">\n",
       "      <th></th>\n",
       "      <th>title_pt</th>\n",
       "      <th>title_en</th>\n",
       "      <th>year</th>\n",
       "      <th>rating</th>\n",
       "      <th>genre</th>\n",
       "      <th>sinopse</th>\n",
       "    </tr>\n",
       "  </thead>\n",
       "  <tbody>\n",
       "    <tr>\n",
       "      <th>0</th>\n",
       "      <td>O Poderoso Chefão II</td>\n",
       "      <td>4. The Godfather Part II</td>\n",
       "      <td>1974</td>\n",
       "      <td>9.0</td>\n",
       "      <td>Policial</td>\n",
       "      <td>Em 1950, Michael Corleone, agora à frente da f...</td>\n",
       "    </tr>\n",
       "    <tr>\n",
       "      <th>1</th>\n",
       "      <td>12 Homens e uma Sentença</td>\n",
       "      <td>5. 12 Angry Men</td>\n",
       "      <td>1957</td>\n",
       "      <td>9.0</td>\n",
       "      <td>Policial</td>\n",
       "      <td>O julgamento de um assassinato em Nova Iorque ...</td>\n",
       "    </tr>\n",
       "    <tr>\n",
       "      <th>2</th>\n",
       "      <td>A Lista de Schindler</td>\n",
       "      <td>6. Schindler's List</td>\n",
       "      <td>1993</td>\n",
       "      <td>9.0</td>\n",
       "      <td>Biografia</td>\n",
       "      <td>Na Polônia ocupada pelos alemães durante a Seg...</td>\n",
       "    </tr>\n",
       "    <tr>\n",
       "      <th>3</th>\n",
       "      <td>O Senhor dos Anéis: O Retorno do Rei</td>\n",
       "      <td>7. The Lord of the Rings: The Return of the King</td>\n",
       "      <td>2003</td>\n",
       "      <td>9.0</td>\n",
       "      <td>Ação</td>\n",
       "      <td>Gandalf e Aragorn lideram o Mundo dos Homens c...</td>\n",
       "    </tr>\n",
       "    <tr>\n",
       "      <th>4</th>\n",
       "      <td>O Senhor dos Anéis: A Sociedade do Anel</td>\n",
       "      <td>9. The Lord of the Rings: The Fellowship of th...</td>\n",
       "      <td>2001</td>\n",
       "      <td>8.8</td>\n",
       "      <td>Ação</td>\n",
       "      <td>Um manso hobbit do Condado e oito companheiros...</td>\n",
       "    </tr>\n",
       "    <tr>\n",
       "      <th>...</th>\n",
       "      <td>...</td>\n",
       "      <td>...</td>\n",
       "      <td>...</td>\n",
       "      <td>...</td>\n",
       "      <td>...</td>\n",
       "      <td>...</td>\n",
       "    </tr>\n",
       "    <tr>\n",
       "      <th>431</th>\n",
       "      <td>Homem-aranha: Lotus</td>\n",
       "      <td>Spider-Man: Lotus</td>\n",
       "      <td>2023</td>\n",
       "      <td>3.4</td>\n",
       "      <td>Ação</td>\n",
       "      <td>Após a morte de sua namorada, Peter Parker se ...</td>\n",
       "    </tr>\n",
       "    <tr>\n",
       "      <th>432</th>\n",
       "      <td>The Marsh King's Daughter</td>\n",
       "      <td>The Marsh King's Daughter</td>\n",
       "      <td>2023</td>\n",
       "      <td>NaN</td>\n",
       "      <td>Policial</td>\n",
       "      <td>A woman seeks revenge against the man who kidn...</td>\n",
       "    </tr>\n",
       "    <tr>\n",
       "      <th>433</th>\n",
       "      <td>O Rei Macaco</td>\n",
       "      <td>The Monkey King</td>\n",
       "      <td>2023</td>\n",
       "      <td>5.8</td>\n",
       "      <td>Animação</td>\n",
       "      <td>Segue um macaco cheio de carisma e seu bastão ...</td>\n",
       "    </tr>\n",
       "    <tr>\n",
       "      <th>434</th>\n",
       "      <td>Gladiador</td>\n",
       "      <td>Gladiator</td>\n",
       "      <td>2000</td>\n",
       "      <td>8.5</td>\n",
       "      <td>Ação</td>\n",
       "      <td>Um general romano planeja a melhor vingança co...</td>\n",
       "    </tr>\n",
       "    <tr>\n",
       "      <th>435</th>\n",
       "      <td>Midsommar: O Mal Não Espera a Noite</td>\n",
       "      <td>Midsommar</td>\n",
       "      <td>2019</td>\n",
       "      <td>7.1</td>\n",
       "      <td>Drama</td>\n",
       "      <td>Casal viaja a Suécia para conhecer lendário fe...</td>\n",
       "    </tr>\n",
       "  </tbody>\n",
       "</table>\n",
       "<p>436 rows × 6 columns</p>\n",
       "</div>"
      ],
      "text/plain": [
       "                                    title_pt  \\\n",
       "0                       O Poderoso Chefão II   \n",
       "1                   12 Homens e uma Sentença   \n",
       "2                       A Lista de Schindler   \n",
       "3       O Senhor dos Anéis: O Retorno do Rei   \n",
       "4    O Senhor dos Anéis: A Sociedade do Anel   \n",
       "..                                       ...   \n",
       "431                      Homem-aranha: Lotus   \n",
       "432                The Marsh King's Daughter   \n",
       "433                             O Rei Macaco   \n",
       "434                                Gladiador   \n",
       "435      Midsommar: O Mal Não Espera a Noite   \n",
       "\n",
       "                                              title_en  year  rating  \\\n",
       "0                             4. The Godfather Part II  1974     9.0   \n",
       "1                                      5. 12 Angry Men  1957     9.0   \n",
       "2                                  6. Schindler's List  1993     9.0   \n",
       "3     7. The Lord of the Rings: The Return of the King  2003     9.0   \n",
       "4    9. The Lord of the Rings: The Fellowship of th...  2001     8.8   \n",
       "..                                                 ...   ...     ...   \n",
       "431                                  Spider-Man: Lotus  2023     3.4   \n",
       "432                          The Marsh King's Daughter  2023     NaN   \n",
       "433                                    The Monkey King  2023     5.8   \n",
       "434                                          Gladiator  2000     8.5   \n",
       "435                                          Midsommar  2019     7.1   \n",
       "\n",
       "         genre                                            sinopse  \n",
       "0     Policial  Em 1950, Michael Corleone, agora à frente da f...  \n",
       "1     Policial  O julgamento de um assassinato em Nova Iorque ...  \n",
       "2    Biografia  Na Polônia ocupada pelos alemães durante a Seg...  \n",
       "3         Ação  Gandalf e Aragorn lideram o Mundo dos Homens c...  \n",
       "4         Ação  Um manso hobbit do Condado e oito companheiros...  \n",
       "..         ...                                                ...  \n",
       "431       Ação  Após a morte de sua namorada, Peter Parker se ...  \n",
       "432   Policial  A woman seeks revenge against the man who kidn...  \n",
       "433   Animação  Segue um macaco cheio de carisma e seu bastão ...  \n",
       "434       Ação  Um general romano planeja a melhor vingança co...  \n",
       "435      Drama  Casal viaja a Suécia para conhecer lendário fe...  \n",
       "\n",
       "[436 rows x 6 columns]"
      ]
     },
     "execution_count": 13,
     "metadata": {},
     "output_type": "execute_result"
    }
   ],
   "source": [
    "df = pd.read_csv('all_movies.csv', delimiter=';')\n",
    "df"
   ]
  },
  {
   "cell_type": "code",
   "execution_count": 14,
   "metadata": {},
   "outputs": [
    {
     "data": {
      "text/plain": [
       "title_pt     0\n",
       "title_en     0\n",
       "year         0\n",
       "rating      14\n",
       "genre        0\n",
       "sinopse      0\n",
       "dtype: int64"
      ]
     },
     "execution_count": 14,
     "metadata": {},
     "output_type": "execute_result"
    }
   ],
   "source": [
    "df.isnull().sum()"
   ]
  },
  {
   "cell_type": "code",
   "execution_count": 15,
   "metadata": {},
   "outputs": [
    {
     "data": {
      "text/html": [
       "<div>\n",
       "<style scoped>\n",
       "    .dataframe tbody tr th:only-of-type {\n",
       "        vertical-align: middle;\n",
       "    }\n",
       "\n",
       "    .dataframe tbody tr th {\n",
       "        vertical-align: top;\n",
       "    }\n",
       "\n",
       "    .dataframe thead th {\n",
       "        text-align: right;\n",
       "    }\n",
       "</style>\n",
       "<table border=\"1\" class=\"dataframe\">\n",
       "  <thead>\n",
       "    <tr style=\"text-align: right;\">\n",
       "      <th></th>\n",
       "      <th>title_pt</th>\n",
       "      <th>title_en</th>\n",
       "      <th>year</th>\n",
       "      <th>rating</th>\n",
       "      <th>genre</th>\n",
       "      <th>sinopse</th>\n",
       "    </tr>\n",
       "  </thead>\n",
       "  <tbody>\n",
       "    <tr>\n",
       "      <th>0</th>\n",
       "      <td>O Poderoso Chefão II</td>\n",
       "      <td>4. The Godfather Part II</td>\n",
       "      <td>1974</td>\n",
       "      <td>9.0</td>\n",
       "      <td>Policial</td>\n",
       "      <td>Em 1950, Michael Corleone, agora à frente da f...</td>\n",
       "    </tr>\n",
       "    <tr>\n",
       "      <th>1</th>\n",
       "      <td>12 Homens e uma Sentença</td>\n",
       "      <td>5. 12 Angry Men</td>\n",
       "      <td>1957</td>\n",
       "      <td>9.0</td>\n",
       "      <td>Policial</td>\n",
       "      <td>O julgamento de um assassinato em Nova Iorque ...</td>\n",
       "    </tr>\n",
       "    <tr>\n",
       "      <th>2</th>\n",
       "      <td>A Lista de Schindler</td>\n",
       "      <td>6. Schindler's List</td>\n",
       "      <td>1993</td>\n",
       "      <td>9.0</td>\n",
       "      <td>Biografia</td>\n",
       "      <td>Na Polônia ocupada pelos alemães durante a Seg...</td>\n",
       "    </tr>\n",
       "    <tr>\n",
       "      <th>3</th>\n",
       "      <td>O Senhor dos Anéis: O Retorno do Rei</td>\n",
       "      <td>7. The Lord of the Rings: The Return of the King</td>\n",
       "      <td>2003</td>\n",
       "      <td>9.0</td>\n",
       "      <td>Ação</td>\n",
       "      <td>Gandalf e Aragorn lideram o Mundo dos Homens c...</td>\n",
       "    </tr>\n",
       "    <tr>\n",
       "      <th>4</th>\n",
       "      <td>O Senhor dos Anéis: A Sociedade do Anel</td>\n",
       "      <td>9. The Lord of the Rings: The Fellowship of th...</td>\n",
       "      <td>2001</td>\n",
       "      <td>8.8</td>\n",
       "      <td>Ação</td>\n",
       "      <td>Um manso hobbit do Condado e oito companheiros...</td>\n",
       "    </tr>\n",
       "    <tr>\n",
       "      <th>...</th>\n",
       "      <td>...</td>\n",
       "      <td>...</td>\n",
       "      <td>...</td>\n",
       "      <td>...</td>\n",
       "      <td>...</td>\n",
       "      <td>...</td>\n",
       "    </tr>\n",
       "    <tr>\n",
       "      <th>430</th>\n",
       "      <td>Tudo em Todo o Lugar ao Mesmo Tempo</td>\n",
       "      <td>Everything Everywhere All at Once</td>\n",
       "      <td>2022</td>\n",
       "      <td>7.8</td>\n",
       "      <td>Ação</td>\n",
       "      <td>Uma imigrante chinesa de meia idade se envolve...</td>\n",
       "    </tr>\n",
       "    <tr>\n",
       "      <th>431</th>\n",
       "      <td>Homem-aranha: Lotus</td>\n",
       "      <td>Spider-Man: Lotus</td>\n",
       "      <td>2023</td>\n",
       "      <td>3.4</td>\n",
       "      <td>Ação</td>\n",
       "      <td>Após a morte de sua namorada, Peter Parker se ...</td>\n",
       "    </tr>\n",
       "    <tr>\n",
       "      <th>433</th>\n",
       "      <td>O Rei Macaco</td>\n",
       "      <td>The Monkey King</td>\n",
       "      <td>2023</td>\n",
       "      <td>5.8</td>\n",
       "      <td>Animação</td>\n",
       "      <td>Segue um macaco cheio de carisma e seu bastão ...</td>\n",
       "    </tr>\n",
       "    <tr>\n",
       "      <th>434</th>\n",
       "      <td>Gladiador</td>\n",
       "      <td>Gladiator</td>\n",
       "      <td>2000</td>\n",
       "      <td>8.5</td>\n",
       "      <td>Ação</td>\n",
       "      <td>Um general romano planeja a melhor vingança co...</td>\n",
       "    </tr>\n",
       "    <tr>\n",
       "      <th>435</th>\n",
       "      <td>Midsommar: O Mal Não Espera a Noite</td>\n",
       "      <td>Midsommar</td>\n",
       "      <td>2019</td>\n",
       "      <td>7.1</td>\n",
       "      <td>Drama</td>\n",
       "      <td>Casal viaja a Suécia para conhecer lendário fe...</td>\n",
       "    </tr>\n",
       "  </tbody>\n",
       "</table>\n",
       "<p>422 rows × 6 columns</p>\n",
       "</div>"
      ],
      "text/plain": [
       "                                    title_pt  \\\n",
       "0                       O Poderoso Chefão II   \n",
       "1                   12 Homens e uma Sentença   \n",
       "2                       A Lista de Schindler   \n",
       "3       O Senhor dos Anéis: O Retorno do Rei   \n",
       "4    O Senhor dos Anéis: A Sociedade do Anel   \n",
       "..                                       ...   \n",
       "430      Tudo em Todo o Lugar ao Mesmo Tempo   \n",
       "431                      Homem-aranha: Lotus   \n",
       "433                             O Rei Macaco   \n",
       "434                                Gladiador   \n",
       "435      Midsommar: O Mal Não Espera a Noite   \n",
       "\n",
       "                                              title_en  year  rating  \\\n",
       "0                             4. The Godfather Part II  1974     9.0   \n",
       "1                                      5. 12 Angry Men  1957     9.0   \n",
       "2                                  6. Schindler's List  1993     9.0   \n",
       "3     7. The Lord of the Rings: The Return of the King  2003     9.0   \n",
       "4    9. The Lord of the Rings: The Fellowship of th...  2001     8.8   \n",
       "..                                                 ...   ...     ...   \n",
       "430                  Everything Everywhere All at Once  2022     7.8   \n",
       "431                                  Spider-Man: Lotus  2023     3.4   \n",
       "433                                    The Monkey King  2023     5.8   \n",
       "434                                          Gladiator  2000     8.5   \n",
       "435                                          Midsommar  2019     7.1   \n",
       "\n",
       "         genre                                            sinopse  \n",
       "0     Policial  Em 1950, Michael Corleone, agora à frente da f...  \n",
       "1     Policial  O julgamento de um assassinato em Nova Iorque ...  \n",
       "2    Biografia  Na Polônia ocupada pelos alemães durante a Seg...  \n",
       "3         Ação  Gandalf e Aragorn lideram o Mundo dos Homens c...  \n",
       "4         Ação  Um manso hobbit do Condado e oito companheiros...  \n",
       "..         ...                                                ...  \n",
       "430       Ação  Uma imigrante chinesa de meia idade se envolve...  \n",
       "431       Ação  Após a morte de sua namorada, Peter Parker se ...  \n",
       "433   Animação  Segue um macaco cheio de carisma e seu bastão ...  \n",
       "434       Ação  Um general romano planeja a melhor vingança co...  \n",
       "435      Drama  Casal viaja a Suécia para conhecer lendário fe...  \n",
       "\n",
       "[422 rows x 6 columns]"
      ]
     },
     "execution_count": 15,
     "metadata": {},
     "output_type": "execute_result"
    }
   ],
   "source": [
    "df.dropna(subset=['rating'], inplace=True)\n",
    "df"
   ]
  },
  {
   "cell_type": "code",
   "execution_count": 16,
   "metadata": {},
   "outputs": [
    {
     "data": {
      "text/html": [
       "<div>\n",
       "<style scoped>\n",
       "    .dataframe tbody tr th:only-of-type {\n",
       "        vertical-align: middle;\n",
       "    }\n",
       "\n",
       "    .dataframe tbody tr th {\n",
       "        vertical-align: top;\n",
       "    }\n",
       "\n",
       "    .dataframe thead th {\n",
       "        text-align: right;\n",
       "    }\n",
       "</style>\n",
       "<table border=\"1\" class=\"dataframe\">\n",
       "  <thead>\n",
       "    <tr style=\"text-align: right;\">\n",
       "      <th></th>\n",
       "      <th>title_pt</th>\n",
       "      <th>title_en</th>\n",
       "      <th>year</th>\n",
       "      <th>rating</th>\n",
       "      <th>genre</th>\n",
       "      <th>sinopse</th>\n",
       "    </tr>\n",
       "  </thead>\n",
       "  <tbody>\n",
       "    <tr>\n",
       "      <th>0</th>\n",
       "      <td>O Poderoso Chefão II</td>\n",
       "      <td>4. The Godfather Part II</td>\n",
       "      <td>1974</td>\n",
       "      <td>9.0</td>\n",
       "      <td>Policial</td>\n",
       "      <td>em 1950, michael corleone, agora à frente da f...</td>\n",
       "    </tr>\n",
       "    <tr>\n",
       "      <th>1</th>\n",
       "      <td>12 Homens e uma Sentença</td>\n",
       "      <td>5. 12 Angry Men</td>\n",
       "      <td>1957</td>\n",
       "      <td>9.0</td>\n",
       "      <td>Policial</td>\n",
       "      <td>o julgamento de um assassinato em nova iorque ...</td>\n",
       "    </tr>\n",
       "    <tr>\n",
       "      <th>2</th>\n",
       "      <td>A Lista de Schindler</td>\n",
       "      <td>6. Schindler's List</td>\n",
       "      <td>1993</td>\n",
       "      <td>9.0</td>\n",
       "      <td>Biografia</td>\n",
       "      <td>na polônia ocupada pelos alemães durante a seg...</td>\n",
       "    </tr>\n",
       "    <tr>\n",
       "      <th>3</th>\n",
       "      <td>O Senhor dos Anéis: O Retorno do Rei</td>\n",
       "      <td>7. The Lord of the Rings: The Return of the King</td>\n",
       "      <td>2003</td>\n",
       "      <td>9.0</td>\n",
       "      <td>Ação</td>\n",
       "      <td>gandalf e aragorn lideram o mundo dos homens c...</td>\n",
       "    </tr>\n",
       "    <tr>\n",
       "      <th>4</th>\n",
       "      <td>O Senhor dos Anéis: A Sociedade do Anel</td>\n",
       "      <td>9. The Lord of the Rings: The Fellowship of th...</td>\n",
       "      <td>2001</td>\n",
       "      <td>8.8</td>\n",
       "      <td>Ação</td>\n",
       "      <td>um manso hobbit do condado e oito companheiros...</td>\n",
       "    </tr>\n",
       "    <tr>\n",
       "      <th>...</th>\n",
       "      <td>...</td>\n",
       "      <td>...</td>\n",
       "      <td>...</td>\n",
       "      <td>...</td>\n",
       "      <td>...</td>\n",
       "      <td>...</td>\n",
       "    </tr>\n",
       "    <tr>\n",
       "      <th>430</th>\n",
       "      <td>Tudo em Todo o Lugar ao Mesmo Tempo</td>\n",
       "      <td>Everything Everywhere All at Once</td>\n",
       "      <td>2022</td>\n",
       "      <td>7.8</td>\n",
       "      <td>Ação</td>\n",
       "      <td>uma imigrante chinesa de meia idade se envolve...</td>\n",
       "    </tr>\n",
       "    <tr>\n",
       "      <th>431</th>\n",
       "      <td>Homem-aranha: Lotus</td>\n",
       "      <td>Spider-Man: Lotus</td>\n",
       "      <td>2023</td>\n",
       "      <td>3.4</td>\n",
       "      <td>Ação</td>\n",
       "      <td>após a morte de sua namorada, peter parker se ...</td>\n",
       "    </tr>\n",
       "    <tr>\n",
       "      <th>433</th>\n",
       "      <td>O Rei Macaco</td>\n",
       "      <td>The Monkey King</td>\n",
       "      <td>2023</td>\n",
       "      <td>5.8</td>\n",
       "      <td>Animação</td>\n",
       "      <td>segue um macaco cheio de carisma e seu bastão ...</td>\n",
       "    </tr>\n",
       "    <tr>\n",
       "      <th>434</th>\n",
       "      <td>Gladiador</td>\n",
       "      <td>Gladiator</td>\n",
       "      <td>2000</td>\n",
       "      <td>8.5</td>\n",
       "      <td>Ação</td>\n",
       "      <td>um general romano planeja a melhor vingança co...</td>\n",
       "    </tr>\n",
       "    <tr>\n",
       "      <th>435</th>\n",
       "      <td>Midsommar: O Mal Não Espera a Noite</td>\n",
       "      <td>Midsommar</td>\n",
       "      <td>2019</td>\n",
       "      <td>7.1</td>\n",
       "      <td>Drama</td>\n",
       "      <td>casal viaja a suécia para conhecer lendário fe...</td>\n",
       "    </tr>\n",
       "  </tbody>\n",
       "</table>\n",
       "<p>422 rows × 6 columns</p>\n",
       "</div>"
      ],
      "text/plain": [
       "                                    title_pt  \\\n",
       "0                       O Poderoso Chefão II   \n",
       "1                   12 Homens e uma Sentença   \n",
       "2                       A Lista de Schindler   \n",
       "3       O Senhor dos Anéis: O Retorno do Rei   \n",
       "4    O Senhor dos Anéis: A Sociedade do Anel   \n",
       "..                                       ...   \n",
       "430      Tudo em Todo o Lugar ao Mesmo Tempo   \n",
       "431                      Homem-aranha: Lotus   \n",
       "433                             O Rei Macaco   \n",
       "434                                Gladiador   \n",
       "435      Midsommar: O Mal Não Espera a Noite   \n",
       "\n",
       "                                              title_en  year  rating  \\\n",
       "0                             4. The Godfather Part II  1974     9.0   \n",
       "1                                      5. 12 Angry Men  1957     9.0   \n",
       "2                                  6. Schindler's List  1993     9.0   \n",
       "3     7. The Lord of the Rings: The Return of the King  2003     9.0   \n",
       "4    9. The Lord of the Rings: The Fellowship of th...  2001     8.8   \n",
       "..                                                 ...   ...     ...   \n",
       "430                  Everything Everywhere All at Once  2022     7.8   \n",
       "431                                  Spider-Man: Lotus  2023     3.4   \n",
       "433                                    The Monkey King  2023     5.8   \n",
       "434                                          Gladiator  2000     8.5   \n",
       "435                                          Midsommar  2019     7.1   \n",
       "\n",
       "         genre                                            sinopse  \n",
       "0     Policial  em 1950, michael corleone, agora à frente da f...  \n",
       "1     Policial  o julgamento de um assassinato em nova iorque ...  \n",
       "2    Biografia  na polônia ocupada pelos alemães durante a seg...  \n",
       "3         Ação  gandalf e aragorn lideram o mundo dos homens c...  \n",
       "4         Ação  um manso hobbit do condado e oito companheiros...  \n",
       "..         ...                                                ...  \n",
       "430       Ação  uma imigrante chinesa de meia idade se envolve...  \n",
       "431       Ação  após a morte de sua namorada, peter parker se ...  \n",
       "433   Animação  segue um macaco cheio de carisma e seu bastão ...  \n",
       "434       Ação  um general romano planeja a melhor vingança co...  \n",
       "435      Drama  casal viaja a suécia para conhecer lendário fe...  \n",
       "\n",
       "[422 rows x 6 columns]"
      ]
     },
     "execution_count": 16,
     "metadata": {},
     "output_type": "execute_result"
    }
   ],
   "source": [
    "df['sinopse'] = df['sinopse'].str.lower()\n",
    "df"
   ]
  },
  {
   "cell_type": "code",
   "execution_count": 17,
   "metadata": {},
   "outputs": [
    {
     "data": {
      "text/plain": [
       "['a',\n",
       " 'à',\n",
       " 'ao',\n",
       " 'aos',\n",
       " 'aquela',\n",
       " 'aquelas',\n",
       " 'aquele',\n",
       " 'aqueles',\n",
       " 'aquilo',\n",
       " 'as',\n",
       " 'às',\n",
       " 'até',\n",
       " 'com',\n",
       " 'como',\n",
       " 'da',\n",
       " 'das',\n",
       " 'de',\n",
       " 'dela',\n",
       " 'delas',\n",
       " 'dele',\n",
       " 'deles',\n",
       " 'depois',\n",
       " 'do',\n",
       " 'dos',\n",
       " 'e',\n",
       " 'é',\n",
       " 'ela',\n",
       " 'elas',\n",
       " 'ele',\n",
       " 'eles',\n",
       " 'em',\n",
       " 'entre',\n",
       " 'era',\n",
       " 'eram',\n",
       " 'éramos',\n",
       " 'essa',\n",
       " 'essas',\n",
       " 'esse',\n",
       " 'esses',\n",
       " 'esta',\n",
       " 'está',\n",
       " 'estamos',\n",
       " 'estão',\n",
       " 'estar',\n",
       " 'estas',\n",
       " 'estava',\n",
       " 'estavam',\n",
       " 'estávamos',\n",
       " 'este',\n",
       " 'esteja',\n",
       " 'estejam',\n",
       " 'estejamos',\n",
       " 'estes',\n",
       " 'esteve',\n",
       " 'estive',\n",
       " 'estivemos',\n",
       " 'estiver',\n",
       " 'estivera',\n",
       " 'estiveram',\n",
       " 'estivéramos',\n",
       " 'estiverem',\n",
       " 'estivermos',\n",
       " 'estivesse',\n",
       " 'estivessem',\n",
       " 'estivéssemos',\n",
       " 'estou',\n",
       " 'eu',\n",
       " 'foi',\n",
       " 'fomos',\n",
       " 'for',\n",
       " 'fora',\n",
       " 'foram',\n",
       " 'fôramos',\n",
       " 'forem',\n",
       " 'formos',\n",
       " 'fosse',\n",
       " 'fossem',\n",
       " 'fôssemos',\n",
       " 'fui',\n",
       " 'há',\n",
       " 'haja',\n",
       " 'hajam',\n",
       " 'hajamos',\n",
       " 'hão',\n",
       " 'havemos',\n",
       " 'haver',\n",
       " 'hei',\n",
       " 'houve',\n",
       " 'houvemos',\n",
       " 'houver',\n",
       " 'houvera',\n",
       " 'houverá',\n",
       " 'houveram',\n",
       " 'houvéramos',\n",
       " 'houverão',\n",
       " 'houverei',\n",
       " 'houverem',\n",
       " 'houveremos',\n",
       " 'houveria',\n",
       " 'houveriam',\n",
       " 'houveríamos',\n",
       " 'houvermos',\n",
       " 'houvesse',\n",
       " 'houvessem',\n",
       " 'houvéssemos',\n",
       " 'isso',\n",
       " 'isto',\n",
       " 'já',\n",
       " 'lhe',\n",
       " 'lhes',\n",
       " 'mais',\n",
       " 'mas',\n",
       " 'me',\n",
       " 'mesmo',\n",
       " 'meu',\n",
       " 'meus',\n",
       " 'minha',\n",
       " 'minhas',\n",
       " 'muito',\n",
       " 'na',\n",
       " 'não',\n",
       " 'nas',\n",
       " 'nem',\n",
       " 'no',\n",
       " 'nos',\n",
       " 'nós',\n",
       " 'nossa',\n",
       " 'nossas',\n",
       " 'nosso',\n",
       " 'nossos',\n",
       " 'num',\n",
       " 'numa',\n",
       " 'o',\n",
       " 'os',\n",
       " 'ou',\n",
       " 'para',\n",
       " 'pela',\n",
       " 'pelas',\n",
       " 'pelo',\n",
       " 'pelos',\n",
       " 'por',\n",
       " 'qual',\n",
       " 'quando',\n",
       " 'que',\n",
       " 'quem',\n",
       " 'são',\n",
       " 'se',\n",
       " 'seja',\n",
       " 'sejam',\n",
       " 'sejamos',\n",
       " 'sem',\n",
       " 'ser',\n",
       " 'será',\n",
       " 'serão',\n",
       " 'serei',\n",
       " 'seremos',\n",
       " 'seria',\n",
       " 'seriam',\n",
       " 'seríamos',\n",
       " 'seu',\n",
       " 'seus',\n",
       " 'só',\n",
       " 'somos',\n",
       " 'sou',\n",
       " 'sua',\n",
       " 'suas',\n",
       " 'também',\n",
       " 'te',\n",
       " 'tem',\n",
       " 'tém',\n",
       " 'temos',\n",
       " 'tenha',\n",
       " 'tenham',\n",
       " 'tenhamos',\n",
       " 'tenho',\n",
       " 'terá',\n",
       " 'terão',\n",
       " 'terei',\n",
       " 'teremos',\n",
       " 'teria',\n",
       " 'teriam',\n",
       " 'teríamos',\n",
       " 'teu',\n",
       " 'teus',\n",
       " 'teve',\n",
       " 'tinha',\n",
       " 'tinham',\n",
       " 'tínhamos',\n",
       " 'tive',\n",
       " 'tivemos',\n",
       " 'tiver',\n",
       " 'tivera',\n",
       " 'tiveram',\n",
       " 'tivéramos',\n",
       " 'tiverem',\n",
       " 'tivermos',\n",
       " 'tivesse',\n",
       " 'tivessem',\n",
       " 'tivéssemos',\n",
       " 'tu',\n",
       " 'tua',\n",
       " 'tuas',\n",
       " 'um',\n",
       " 'uma',\n",
       " 'você',\n",
       " 'vocês',\n",
       " 'vos']"
      ]
     },
     "execution_count": 17,
     "metadata": {},
     "output_type": "execute_result"
    }
   ],
   "source": [
    "stopwords = nltk.corpus.stopwords.words('portuguese')\n",
    "stopwords"
   ]
  },
  {
   "cell_type": "code",
   "execution_count": 18,
   "metadata": {},
   "outputs": [
    {
     "data": {
      "text/html": [
       "<div>\n",
       "<style scoped>\n",
       "    .dataframe tbody tr th:only-of-type {\n",
       "        vertical-align: middle;\n",
       "    }\n",
       "\n",
       "    .dataframe tbody tr th {\n",
       "        vertical-align: top;\n",
       "    }\n",
       "\n",
       "    .dataframe thead th {\n",
       "        text-align: right;\n",
       "    }\n",
       "</style>\n",
       "<table border=\"1\" class=\"dataframe\">\n",
       "  <thead>\n",
       "    <tr style=\"text-align: right;\">\n",
       "      <th></th>\n",
       "      <th>title_pt</th>\n",
       "      <th>title_en</th>\n",
       "      <th>year</th>\n",
       "      <th>rating</th>\n",
       "      <th>genre</th>\n",
       "      <th>sinopse</th>\n",
       "    </tr>\n",
       "  </thead>\n",
       "  <tbody>\n",
       "    <tr>\n",
       "      <th>0</th>\n",
       "      <td>O Poderoso Chefão II</td>\n",
       "      <td>4. The Godfather Part II</td>\n",
       "      <td>1974</td>\n",
       "      <td>9.0</td>\n",
       "      <td>Policial</td>\n",
       "      <td>1950, michael corleone, agora frente família, ...</td>\n",
       "    </tr>\n",
       "    <tr>\n",
       "      <th>1</th>\n",
       "      <td>12 Homens e uma Sentença</td>\n",
       "      <td>5. 12 Angry Men</td>\n",
       "      <td>1957</td>\n",
       "      <td>9.0</td>\n",
       "      <td>Policial</td>\n",
       "      <td>julgamento assassinato nova iorque frustrado ú...</td>\n",
       "    </tr>\n",
       "    <tr>\n",
       "      <th>2</th>\n",
       "      <td>A Lista de Schindler</td>\n",
       "      <td>6. Schindler's List</td>\n",
       "      <td>1993</td>\n",
       "      <td>9.0</td>\n",
       "      <td>Biografia</td>\n",
       "      <td>polônia ocupada alemães durante segunda guerra...</td>\n",
       "    </tr>\n",
       "    <tr>\n",
       "      <th>3</th>\n",
       "      <td>O Senhor dos Anéis: O Retorno do Rei</td>\n",
       "      <td>7. The Lord of the Rings: The Return of the King</td>\n",
       "      <td>2003</td>\n",
       "      <td>9.0</td>\n",
       "      <td>Ação</td>\n",
       "      <td>gandalf aragorn lideram mundo homens contra ex...</td>\n",
       "    </tr>\n",
       "    <tr>\n",
       "      <th>4</th>\n",
       "      <td>O Senhor dos Anéis: A Sociedade do Anel</td>\n",
       "      <td>9. The Lord of the Rings: The Fellowship of th...</td>\n",
       "      <td>2001</td>\n",
       "      <td>8.8</td>\n",
       "      <td>Ação</td>\n",
       "      <td>manso hobbit condado oito companheiros partem ...</td>\n",
       "    </tr>\n",
       "  </tbody>\n",
       "</table>\n",
       "</div>"
      ],
      "text/plain": [
       "                                  title_pt  \\\n",
       "0                     O Poderoso Chefão II   \n",
       "1                 12 Homens e uma Sentença   \n",
       "2                     A Lista de Schindler   \n",
       "3     O Senhor dos Anéis: O Retorno do Rei   \n",
       "4  O Senhor dos Anéis: A Sociedade do Anel   \n",
       "\n",
       "                                            title_en  year  rating      genre  \\\n",
       "0                           4. The Godfather Part II  1974     9.0   Policial   \n",
       "1                                    5. 12 Angry Men  1957     9.0   Policial   \n",
       "2                                6. Schindler's List  1993     9.0  Biografia   \n",
       "3   7. The Lord of the Rings: The Return of the King  2003     9.0       Ação   \n",
       "4  9. The Lord of the Rings: The Fellowship of th...  2001     8.8       Ação   \n",
       "\n",
       "                                             sinopse  \n",
       "0  1950, michael corleone, agora frente família, ...  \n",
       "1  julgamento assassinato nova iorque frustrado ú...  \n",
       "2  polônia ocupada alemães durante segunda guerra...  \n",
       "3  gandalf aragorn lideram mundo homens contra ex...  \n",
       "4  manso hobbit condado oito companheiros partem ...  "
      ]
     },
     "execution_count": 18,
     "metadata": {},
     "output_type": "execute_result"
    }
   ],
   "source": [
    "df['sinopse'] = df['sinopse'].apply(lambda x: ' '.join([word for word in x.split() if word not in (stopwords)]))\n",
    "df.head()"
   ]
  },
  {
   "cell_type": "code",
   "execution_count": 39,
   "metadata": {},
   "outputs": [
    {
     "data": {
      "text/plain": [
       "array([[0.        , 0.        , 0.        , ..., 0.        , 0.        ,\n",
       "        0.        ],\n",
       "       [0.        , 0.        , 0.        , ..., 0.        , 0.26303395,\n",
       "        0.        ],\n",
       "       [0.        , 0.        , 0.        , ..., 0.        , 0.        ,\n",
       "        0.        ],\n",
       "       ...,\n",
       "       [0.22652041, 0.        , 0.        , ..., 0.        , 0.        ,\n",
       "        0.        ],\n",
       "       [0.        , 0.        , 0.        , ..., 0.        , 0.        ,\n",
       "        0.        ],\n",
       "       [0.        , 0.        , 0.        , ..., 0.        , 0.        ,\n",
       "        0.        ]])"
      ]
     },
     "execution_count": 39,
     "metadata": {},
     "output_type": "execute_result"
    }
   ],
   "source": [
    "\n",
    "tfidf_vectorizer = TfidfVectorizer()\n",
    "tfidf_matrix = tfidf_vectorizer.fit_transform(df['sinopse'])\n",
    "tfidf_matrix.toarray()\n"
   ]
  },
  {
   "cell_type": "code",
   "execution_count": 42,
   "metadata": {},
   "outputs": [
    {
     "data": {
      "text/html": [
       "<style type=\"text/css\">\n",
       "#T_d4240_row4_col1 {\n",
       "  background-color: lightgreen;\n",
       "}\n",
       "</style>\n",
       "<table id=\"T_d4240\">\n",
       "  <thead>\n",
       "    <tr>\n",
       "      <th class=\"blank level0\" >&nbsp;</th>\n",
       "      <th id=\"T_d4240_level0_col0\" class=\"col_heading level0 col0\" >Description</th>\n",
       "      <th id=\"T_d4240_level0_col1\" class=\"col_heading level0 col1\" >Value</th>\n",
       "    </tr>\n",
       "  </thead>\n",
       "  <tbody>\n",
       "    <tr>\n",
       "      <th id=\"T_d4240_level0_row0\" class=\"row_heading level0 row0\" >0</th>\n",
       "      <td id=\"T_d4240_row0_col0\" class=\"data row0 col0\" >Session id</td>\n",
       "      <td id=\"T_d4240_row0_col1\" class=\"data row0 col1\" >123</td>\n",
       "    </tr>\n",
       "    <tr>\n",
       "      <th id=\"T_d4240_level0_row1\" class=\"row_heading level0 row1\" >1</th>\n",
       "      <td id=\"T_d4240_row1_col0\" class=\"data row1 col0\" >Original data shape</td>\n",
       "      <td id=\"T_d4240_row1_col1\" class=\"data row1 col1\" >(422, 3409)</td>\n",
       "    </tr>\n",
       "    <tr>\n",
       "      <th id=\"T_d4240_level0_row2\" class=\"row_heading level0 row2\" >2</th>\n",
       "      <td id=\"T_d4240_row2_col0\" class=\"data row2 col0\" >Transformed data shape</td>\n",
       "      <td id=\"T_d4240_row2_col1\" class=\"data row2 col1\" >(422, 3409)</td>\n",
       "    </tr>\n",
       "    <tr>\n",
       "      <th id=\"T_d4240_level0_row3\" class=\"row_heading level0 row3\" >3</th>\n",
       "      <td id=\"T_d4240_row3_col0\" class=\"data row3 col0\" >Numeric features</td>\n",
       "      <td id=\"T_d4240_row3_col1\" class=\"data row3 col1\" >3409</td>\n",
       "    </tr>\n",
       "    <tr>\n",
       "      <th id=\"T_d4240_level0_row4\" class=\"row_heading level0 row4\" >4</th>\n",
       "      <td id=\"T_d4240_row4_col0\" class=\"data row4 col0\" >Preprocess</td>\n",
       "      <td id=\"T_d4240_row4_col1\" class=\"data row4 col1\" >True</td>\n",
       "    </tr>\n",
       "    <tr>\n",
       "      <th id=\"T_d4240_level0_row5\" class=\"row_heading level0 row5\" >5</th>\n",
       "      <td id=\"T_d4240_row5_col0\" class=\"data row5 col0\" >Imputation type</td>\n",
       "      <td id=\"T_d4240_row5_col1\" class=\"data row5 col1\" >simple</td>\n",
       "    </tr>\n",
       "    <tr>\n",
       "      <th id=\"T_d4240_level0_row6\" class=\"row_heading level0 row6\" >6</th>\n",
       "      <td id=\"T_d4240_row6_col0\" class=\"data row6 col0\" >Numeric imputation</td>\n",
       "      <td id=\"T_d4240_row6_col1\" class=\"data row6 col1\" >mean</td>\n",
       "    </tr>\n",
       "    <tr>\n",
       "      <th id=\"T_d4240_level0_row7\" class=\"row_heading level0 row7\" >7</th>\n",
       "      <td id=\"T_d4240_row7_col0\" class=\"data row7 col0\" >Categorical imputation</td>\n",
       "      <td id=\"T_d4240_row7_col1\" class=\"data row7 col1\" >mode</td>\n",
       "    </tr>\n",
       "    <tr>\n",
       "      <th id=\"T_d4240_level0_row8\" class=\"row_heading level0 row8\" >8</th>\n",
       "      <td id=\"T_d4240_row8_col0\" class=\"data row8 col0\" >CPU Jobs</td>\n",
       "      <td id=\"T_d4240_row8_col1\" class=\"data row8 col1\" >-1</td>\n",
       "    </tr>\n",
       "    <tr>\n",
       "      <th id=\"T_d4240_level0_row9\" class=\"row_heading level0 row9\" >9</th>\n",
       "      <td id=\"T_d4240_row9_col0\" class=\"data row9 col0\" >Use GPU</td>\n",
       "      <td id=\"T_d4240_row9_col1\" class=\"data row9 col1\" >False</td>\n",
       "    </tr>\n",
       "    <tr>\n",
       "      <th id=\"T_d4240_level0_row10\" class=\"row_heading level0 row10\" >10</th>\n",
       "      <td id=\"T_d4240_row10_col0\" class=\"data row10 col0\" >Log Experiment</td>\n",
       "      <td id=\"T_d4240_row10_col1\" class=\"data row10 col1\" >False</td>\n",
       "    </tr>\n",
       "    <tr>\n",
       "      <th id=\"T_d4240_level0_row11\" class=\"row_heading level0 row11\" >11</th>\n",
       "      <td id=\"T_d4240_row11_col0\" class=\"data row11 col0\" >Experiment Name</td>\n",
       "      <td id=\"T_d4240_row11_col1\" class=\"data row11 col1\" >anomaly-default-name</td>\n",
       "    </tr>\n",
       "    <tr>\n",
       "      <th id=\"T_d4240_level0_row12\" class=\"row_heading level0 row12\" >12</th>\n",
       "      <td id=\"T_d4240_row12_col0\" class=\"data row12 col0\" >USI</td>\n",
       "      <td id=\"T_d4240_row12_col1\" class=\"data row12 col1\" >c83d</td>\n",
       "    </tr>\n",
       "  </tbody>\n",
       "</table>\n"
      ],
      "text/plain": [
       "<pandas.io.formats.style.Styler at 0x207c0aab1c0>"
      ]
     },
     "metadata": {},
     "output_type": "display_data"
    }
   ],
   "source": [
    "s = setup(tfidf_matrix.toarray(), session_id = 123)"
   ]
  },
  {
   "cell_type": "code",
   "execution_count": 43,
   "metadata": {},
   "outputs": [
    {
     "data": {
      "text/html": [],
      "text/plain": [
       "<IPython.core.display.HTML object>"
      ]
     },
     "metadata": {},
     "output_type": "display_data"
    },
    {
     "data": {
      "text/html": [],
      "text/plain": [
       "<IPython.core.display.HTML object>"
      ]
     },
     "metadata": {},
     "output_type": "display_data"
    },
    {
     "data": {
      "text/html": [],
      "text/plain": [
       "<IPython.core.display.HTML object>"
      ]
     },
     "metadata": {},
     "output_type": "display_data"
    }
   ],
   "source": [
    "knn = create_model('knn')"
   ]
  },
  {
   "cell_type": "code",
   "execution_count": 34,
   "metadata": {},
   "outputs": [
    {
     "data": {
      "text/html": [],
      "text/plain": [
       "<IPython.core.display.HTML object>"
      ]
     },
     "metadata": {},
     "output_type": "display_data"
    },
    {
     "data": {
      "application/vnd.plotly.v1+json": {
       "config": {
        "plotlyServerURL": "https://plot.ly"
       },
       "data": [
        {
         "customdata": [
          [
           "O Poderoso Chefão II"
          ],
          [
           "12 Homens e uma Sentença"
          ],
          [
           "A Lista de Schindler"
          ],
          [
           "O Senhor dos Anéis: O Retorno do Rei"
          ],
          [
           "O Senhor dos Anéis: A Sociedade do Anel"
          ],
          [
           "Três Homens em Conflito"
          ],
          [
           "Forrest Gump: O Contador de Histórias"
          ],
          [
           "Clube da Luta"
          ],
          [
           "O Senhor dos Anéis: As Duas Torres"
          ],
          [
           "Star Wars: Episódio V - O Império Contra-Ataca"
          ],
          [
           "Matrix"
          ],
          [
           "Os Bons Companheiros"
          ],
          [
           "Um Estranho no Ninho"
          ],
          [
           "Seven: Os Sete Crimes Capitais"
          ],
          [
           "A Felicidade Não se Compra"
          ],
          [
           "Os Sete Samurais"
          ],
          [
           "O Silêncio dos Inocentes"
          ],
          [
           "O Resgate do Soldado Ryan"
          ],
          [
           "Cidade de Deus"
          ],
          [
           "A Vida é Bela"
          ],
          [
           "À Espera de um Milagre"
          ],
          [
           "Star Wars: Episódio IV - Uma Nova Esperança"
          ],
          [
           "O Exterminador do Futuro 2: O Julgamento Final"
          ],
          [
           "De Volta para o Futuro"
          ],
          [
           "A Viagem de Chihiro"
          ],
          [
           "O Pianista"
          ],
          [
           "Psicose"
          ],
          [
           "Parasita"
          ],
          [
           "O Rei Leão"
          ],
          [
           "O Profissional"
          ],
          [
           "A Outra História Americana"
          ],
          [
           "Os Infiltrados"
          ],
          [
           "Whiplash: Em Busca da Perfeição"
          ],
          [
           "O Grande Truque"
          ],
          [
           "Túmulo dos Vagalumes"
          ],
          [
           "Casablanca"
          ],
          [
           "Harakiri"
          ],
          [
           "Intocáveis"
          ],
          [
           "Tempos Modernos"
          ],
          [
           "Cinema Paradiso"
          ],
          [
           "Era uma Vez no Oeste"
          ],
          [
           "Janela Indiscreta"
          ],
          [
           "Alien - O 8º Passageiro"
          ],
          [
           "Luzes da Cidade"
          ],
          [
           "Apocalypse Now"
          ],
          [
           "Amnésia"
          ],
          [
           "Django Livre"
          ],
          [
           "Os Caçadores da Arca Perdida"
          ],
          [
           "WALL·E"
          ],
          [
           "A Vida dos Outros"
          ],
          [
           "Crepúsculo dos Deuses"
          ],
          [
           "Glória Feita de Sangue"
          ],
          [
           "Vingadores: Guerra Infinita"
          ],
          [
           "O Iluminado"
          ],
          [
           "O Grande Ditador"
          ],
          [
           "Testemunha de Acusação"
          ],
          [
           "Homem-Aranha: No Aranhaverso"
          ],
          [
           "Aliens, O Resgate"
          ],
          [
           "Beleza Americana"
          ],
          [
           "Batman: O Cavaleiro das Trevas Ressurge"
          ],
          [
           "Bastardos Inglórios"
          ],
          [
           "Dr. Fantástico"
          ],
          [
           "Oldboy"
          ],
          [
           "Viva: A Vida é uma Festa"
          ],
          [
           "Amadeus"
          ],
          [
           "Toy Story"
          ],
          [
           "Coração Valente"
          ],
          [
           "O Barco: Inferno no Mar"
          ],
          [
           "Coringa"
          ],
          [
           "Vingadores: Ultimato"
          ],
          [
           "Princesa Mononoke"
          ],
          [
           "Gênio Indomável"
          ],
          [
           "Era uma Vez na América"
          ],
          [
           "Your Name."
          ],
          [
           "3 Idiotas"
          ],
          [
           "Céu E Inferno"
          ],
          [
           "Cantando na Chuva"
          ],
          [
           "Réquiem para um Sonho"
          ],
          [
           "Cafarnaum"
          ],
          [
           "Toy Story 3"
          ],
          [
           "Vá e Veja"
          ],
          [
           "Star Wars, Episódio VI: O Retorno do Jedi"
          ],
          [
           "Brilho Eterno de uma Mente sem Lembranças"
          ],
          [
           "2001: Uma Odisséia no Espaço"
          ],
          [
           "A Caça"
          ],
          [
           "Cães de Aluguel"
          ],
          [
           "Viver"
          ],
          [
           "Lawrence da Arábia"
          ],
          [
           "Cidadão Kane"
          ],
          [
           "M, o Vampiro de Dusseldorf"
          ],
          [
           "Intriga Internacional"
          ],
          [
           "Se Meu Apartamento Falasse"
          ],
          [
           "Um Corpo que Cai"
          ],
          [
           "Pacto de Sangue"
          ],
          [
           "O Fabuloso Destino de Amélie Poulain"
          ],
          [
           "Scarface"
          ],
          [
           "Nascido para Matar"
          ],
          [
           "Laranja Mecânica"
          ],
          [
           "Incêndios"
          ],
          [
           "Hamilton"
          ],
          [
           "Up: Altas Aventuras"
          ],
          [
           "O Sol é para Todos"
          ],
          [
           "Golpe de Mestre"
          ],
          [
           "A Separação"
          ],
          [
           "Indiana Jones e a Última Cruzada"
          ],
          [
           "Metrópolis"
          ],
          [
           "Duro de Matar"
          ],
          [
           "Los Angeles: Cidade Proibida"
          ],
          [
           "Ladrões de Bicicletas"
          ],
          [
           "Snatch: Porcos e Diamantes"
          ],
          [
           "Como Estrelas na Terra"
          ],
          [
           "Taxi Driver: Motorista de Táxi"
          ],
          [
           "1917"
          ],
          [
           "A Queda! As Últimas Horas de Hitler"
          ],
          [
           "Dangal"
          ],
          [
           "Por uns Dólares a Mais"
          ],
          [
           "Batman Begins"
          ],
          [
           "Quanto Mais Quente Melhor"
          ],
          [
           "O Garoto"
          ],
          [
           "Meu Pai"
          ],
          [
           "Green Book: O Guia"
          ],
          [
           "A Malvada"
          ],
          [
           "Julgamento em Nuremberg"
          ],
          [
           "O Show de Truman: O Show da Vida"
          ],
          [
           "Ran"
          ],
          [
           "Sangue Negro"
          ],
          [
           "Cassino"
          ],
          [
           "Ilha do Medo"
          ],
          [
           "O Labirinto do Fauno"
          ],
          [
           "Os Imperdoáveis"
          ],
          [
           "O Sexto Sentido"
          ],
          [
           "Uma Mente Brilhante"
          ],
          [
           "O Tesouro da Sierra Madre"
          ],
          [
           "Yojimbo, o Guarda-Costas"
          ],
          [
           "Onde os Fracos Não Têm Vez"
          ],
          [
           "Monty Python em Busca do Cálice Sagrado"
          ],
          [
           "Kill Bill: Volume 1"
          ],
          [
           "Fugindo do Inferno"
          ],
          [
           "O Enigma de Outro Mundo"
          ],
          [
           "Rashomon"
          ],
          [
           "Procurando Nemo"
          ],
          [
           "O Homem Elefante"
          ],
          [
           "Chinatown"
          ],
          [
           "Homem-Aranha: Sem Volta para Casa"
          ],
          [
           "V de Vingança"
          ],
          [
           "...E o Vento Levou"
          ],
          [
           "Touro Indomável"
          ],
          [
           "Disque M para Matar"
          ],
          [
           "O Castelo Animado"
          ],
          [
           "Jogos, Trapaças e Dois Canos Fumegantes"
          ],
          [
           "O Segredo dos Seus Olhos"
          ],
          [
           "Divertida Mente"
          ],
          [
           "Os Suspeitos"
          ],
          [
           "Três Anúncios para um Crime"
          ],
          [
           "A Ponte do Rio Kwai"
          ],
          [
           "Trainspotting: Sem Limites"
          ],
          [
           "Fargo: Uma Comédia de Erros"
          ],
          [
           "Guerreiro"
          ],
          [
           "Gran Torino"
          ],
          [
           "Prenda-me se for Capaz"
          ],
          [
           "Meu Amigo Totoro"
          ],
          [
           "Menina de Ouro"
          ],
          [
           "Klaus"
          ],
          [
           "Filhos do Paraíso"
          ],
          [
           "Harry Potter e as Relíquias da Morte - Parte 2"
          ],
          [
           "Blade Runner: O Caçador de Androides"
          ],
          [
           "12 Anos de Escravidão"
          ],
          [
           "Antes do Amanhecer"
          ],
          [
           "Em Busca do Ouro"
          ],
          [
           "O Grande Hotel Budapeste"
          ],
          [
           "Ben-Hur"
          ],
          [
           "Garota Exemplar"
          ],
          [
           "Sindicato de Ladrões"
          ],
          [
           "Barry Lyndon"
          ],
          [
           "Até o Último Homem"
          ],
          [
           "Em Nome do Pai"
          ],
          [
           "A General"
          ],
          [
           "O Franco Atirador"
          ],
          [
           "Morangos Silvestres"
          ],
          [
           "Memórias de um Assassino"
          ],
          [
           "O 3º Homem"
          ],
          [
           "O Salário do Medo"
          ],
          [
           "Relatos Selvagens"
          ],
          [
           "Bancando o Águia"
          ],
          [
           "Mad Max: Estrada da Fúria"
          ],
          [
           "Sociedade dos Poetas Mortos"
          ],
          [
           "A Mulher Faz o Homem"
          ],
          [
           "Monstros S.A."
          ],
          [
           "Como Treinar o Seu Dragão"
          ],
          [
           "Mary e Max: Uma Amizade Diferente"
          ],
          [
           "Tubarão"
          ],
          [
           "O Sétimo Selo"
          ],
          [
           "O Quarto de Jack"
          ],
          [
           "O Grande Lebowski"
          ],
          [
           "Ford vs Ferrari"
          ],
          [
           "Era uma Vez em Tóquio"
          ],
          [
           "Ratatouille"
          ],
          [
           "Hotel Ruanda"
          ],
          [
           "O Martírio de Joana D'Arc"
          ],
          [
           "Rocky: Um Lutador"
          ],
          [
           "Logan"
          ],
          [
           "Platoon"
          ],
          [
           "Spotlight: Segredos Revelados"
          ],
          [
           "O Exterminador do Futuro"
          ],
          [
           "Jai Bhim"
          ],
          [
           "Antes do Pôr do Sol"
          ],
          [
           "Rush: No Limite da Emoção"
          ],
          [
           "Rede de Intrigas"
          ],
          [
           "Conta Comigo"
          ],
          [
           "Os Melhores Anos de Nossa Vida"
          ],
          [
           "O Mágico de Oz"
          ],
          [
           "Na Natureza Selvagem"
          ],
          [
           "O Ódio"
          ],
          [
           "O Exorcista"
          ],
          [
           "Piratas do Caribe: A Maldição do Pérola Negra"
          ],
          [
           "Os Incríveis"
          ],
          [
           "Ser ou Não Ser"
          ],
          [
           "Meu Pai e Meu Filho"
          ],
          [
           "Feitiço do Tempo"
          ],
          [
           "As Vinhas da Ira"
          ],
          [
           "Sempre ao Seu Lado"
          ],
          [
           "A Batalha de Argel"
          ],
          [
           "A Criada"
          ],
          [
           "Amores Brutos"
          ],
          [
           "Rebecca, a Mulher Inesquecível"
          ],
          [
           "Rebeldia Indomável"
          ],
          [
           "A Canção da Estrada"
          ],
          [
           "A Noviça Rebelde"
          ],
          [
           "Aconteceu Naquela Noite"
          ],
          [
           "O Gigante de Ferro"
          ],
          [
           "Os Incompreendidos"
          ],
          [
           "Histórias Cruzadas"
          ],
          [
           "Quando Duas Mulheres Pecam"
          ],
          [
           "A Vida de Brian"
          ],
          [
           "Aladdin"
          ],
          [
           "A Chantagem"
          ],
          [
           "Super-Heróis: A Liga da Injustiça"
          ],
          [
           "Manos: As Mãos do Destino"
          ],
          [
           "Birdemic: Choque e Terror"
          ],
          [
           "Bebês Geniais 2: Super Bebês"
          ],
          [
           "A Gostosa e a Gosmenta"
          ],
          [
           "Salvando o Natal"
          ],
          [
           "House of the Dead: O Filme"
          ],
          [
           "O Filho do Máskara"
          ],
          [
           "Deu a Louca em Hollywood"
          ],
          [
           "Radhe"
          ],
          [
           "A Reconquista"
          ],
          [
           "Universidade do Prazer"
          ],
          [
           "Alone in the Dark: O Despertar do Mal"
          ],
          [
           "Dragonball Evolution"
          ],
          [
           "Race 3"
          ],
          [
           "De Justin para Kelly"
          ],
          [
           "Ir ao mar"
          ],
          [
           "A Guerra das Comidas"
          ],
          [
           "Dünyayi Kurtaran Adam'in Oglu"
          ],
          [
           "Espartalhões"
          ],
          [
           "Contato de Risco"
          ],
          [
           "Uma Comédia Nada Romântica"
          ],
          [
           "Cats"
          ],
          [
           "Daniel der Zauberer"
          ],
          [
           "Bebês Geniais"
          ],
          [
           "Glitter: O Brilho de uma Estrela"
          ],
          [
           "A Centopéia Humana 3"
          ],
          [
           "Tubarão 4: A Vingança"
          ],
          [
           "Invasão Cósmica"
          ],
          [
           "Trolls II"
          ],
          [
           "BloodRayne"
          ],
          [
           "365 Dias: Hoje"
          ],
          [
           "Hobgoblins"
          ],
          [
           "O Apocalipse"
          ],
          [
           "Olhos Famintos: Renascimento"
          ],
          [
           "365 dni"
          ],
          [
           "Elk*rtuk"
          ],
          [
           "Enes Batur Hayal mi Gerçek mi?"
          ],
          [
           "Tudo pela Honra do Meu Pai"
          ],
          [
           "Cada um tem a Gêmea que Merece"
          ],
          [
           "Rollerball"
          ],
          [
           "Papai Noel Conquista os Marcianos"
          ],
          [
           "Slender Man: Pesadelo Sem Rosto"
          ],
          [
           "Mulher-Gato"
          ],
          [
           "Kazaam"
          ],
          [
           "Adipurush"
          ],
          [
           "Os Vampiros Que Se Mordam"
          ],
          [
           "Emoji: O Filme"
          ],
          [
           "Steel - O Homem De Aço"
          ],
          [
           "Jogos Famintos"
          ],
          [
           "Student of the Year 2"
          ],
          [
           "Vende-se Esta Casa"
          ],
          [
           "Laxmii"
          ],
          [
           "Ameaça no Espaço"
          ],
          [
           "Tees Maar Khan"
          ],
          [
           "Ursinho Pooh: Sangue e Mel"
          ],
          [
           "Todo Mundo em Pânico 5"
          ],
          [
           "Debi & Lóide 2: Quando Debi Conheceu Lóide"
          ],
          [
           "O Massacre da Serra Elétrica: O Retorno"
          ],
          [
           "Gunday"
          ],
          [
           "The Room"
          ],
          [
           "Mestre do Disfarce"
          ],
          [
           "Loucademia de Polícia 7: Missão Moscou"
          ],
          [
           "Acampamento do Papai"
          ],
          [
           "Bratz: O Filme"
          ],
          [
           "Hercules in New York"
          ],
          [
           "Far Cry: Fugindo do Inferno"
          ],
          [
           "Mortal Kombat: A Aniquilação"
          ],
          [
           "Barb Wire - A Justiceira"
          ],
          [
           "Medo Ponto com Br"
          ],
          [
           "Smolensk"
          ],
          [
           "3 Ninjas: Aventura na Mega Mountain"
          ],
          [
           "Batman & Robin"
          ],
          [
           "Baaghi 3"
          ],
          [
           "Cinquenta Tons de Preto"
          ],
          [
           "Capitão América"
          ],
          [
           "Crossroads: Amigas para Sempre"
          ],
          [
           "Pequenos Espiões 4"
          ],
          [
           "O Mundo das Spice Girls"
          ],
          [
           "A História sem Fim 3"
          ],
          [
           "Tubarão 3"
          ],
          [
           "Superman IV: Em Busca da Paz"
          ],
          [
           "Dungeons & Dragons - A Aventura Começa Agora"
          ],
          [
           "O Sacrifício"
          ],
          [
           "Natal Sangrento"
          ],
          [
           "A Névoa"
          ],
          [
           "D-War: Guerra dos Dragões"
          ],
          [
           "Mac - O Extraterrestre"
          ],
          [
           "Dotado para Brilhar"
          ],
          [
           "As Aventuras de Sharkboy e Lavagirl"
          ],
          [
           "Piranha 2"
          ],
          [
           "Eu Sei Quem me Matou"
          ],
          [
           "O Guru do Amor"
          ],
          [
           "Se Beber, Não Entre no Jogo"
          ],
          [
           "Em Nome do Rei"
          ],
          [
           "Os Vingadores"
          ],
          [
           "Os Flintstones em Viva Rock Vegas"
          ],
          [
           "A Centopeia Humana 2"
          ],
          [
           "Street Fighter: A Lenda de Chun-Li"
          ],
          [
           "Stan Helsing"
          ],
          [
           "Você Não Tá Convidada pro Meu Bat Mitzvá!"
          ],
          [
           "Oppenheimer"
          ],
          [
           "Barbie"
          ],
          [
           "The Flash"
          ],
          [
           null
          ],
          [
           "Besouro Azul"
          ],
          [
           "Drácula: A Última Viagem do Deméter"
          ],
          [
           "Megatubarão 2"
          ],
          [
           "Indiana Jones e a Relíquia do Destino"
          ],
          [
           "Gran Turismo - De Jogador a Corredor"
          ],
          [
           "O Protetor: Capítulo Final"
          ],
          [
           "Que Horas Eu Te Pego?"
          ],
          [
           "The Killer"
          ],
          [
           "Vermelho, Branco e Sangue Azul"
          ],
          [
           "Agente Stone"
          ],
          [
           "Bottoms"
          ],
          [
           "As Tartarugas Ninja: Caos Mutante"
          ],
          [
           "Dungeons & Dragons: Honra Entre Rebeldes"
          ],
          [
           "Fale Comigo"
          ],
          [
           "Boogeyman: Seu Medo é Real"
          ],
          [
           "Guardiões da Galáxia Vol. 3"
          ],
          [
           "Ferrari"
          ],
          [
           "Som da Liberdade"
          ],
          [
           null
          ],
          [
           "Homem-Aranha: Através do Aranhaverso"
          ],
          [
           "Saltburn"
          ],
          [
           "Amigos De Férias 2"
          ],
          [
           "Missão: Impossível - Acerto de Contas Parte Um"
          ],
          [
           null
          ],
          [
           "Vidas Passadas"
          ],
          [
           "Asteroid City"
          ],
          [
           "Ruim Pra Cachorro"
          ],
          [
           "X: A Marca da Morte"
          ],
          [
           "Pobres Criaturas"
          ],
          [
           "Super Mario Bros. - O Filme"
          ],
          [
           "O Protetor"
          ],
          [
           "Elementos"
          ],
          [
           null
          ],
          [
           "A Grande Aposta"
          ],
          [
           "Toc Toc Toc: Ecos do Além"
          ],
          [
           "O Exorcista do Papa"
          ],
          [
           "Interestelar"
          ],
          [
           "Megatubarão"
          ],
          [
           "Tenet"
          ],
          [
           "O Clube de Leitores Assassinos"
          ],
          [
           "A Chamada"
          ],
          [
           "The Dive"
          ],
          [
           null
          ],
          [
           "Babilônia"
          ],
          [
           "John Wick 4: Baba Yaga"
          ],
          [
           "O Pior Vizinho do Mundo"
          ],
          [
           "Transformers: O Despertar das Feras"
          ],
          [
           "Amizade de Férias"
          ],
          [
           "O Pacto"
          ],
          [
           "O Poderoso Chefão"
          ],
          [
           "Um Sonho de Liberdade"
          ],
          [
           "Duna"
          ],
          [
           null
          ],
          [
           "A Pequena Sereia"
          ],
          [
           "Avatar: O Caminho da Água"
          ],
          [
           "OMG 2"
          ],
          [
           "George Foreman: Sua História"
          ],
          [
           null
          ],
          [
           "Batman"
          ],
          [
           "A Baleia"
          ],
          [
           "O Urso do Pó Branco"
          ],
          [
           "Batman: O Cavaleiro das Trevas"
          ],
          [
           null
          ],
          [
           "The Hill"
          ],
          [
           "Jailer"
          ],
          [
           null
          ],
          [
           "Sede Assassina"
          ],
          [
           null
          ],
          [
           "O Lugar Onde Tudo Termina"
          ],
          [
           "O Protetor 2"
          ],
          [
           "Mansão Mal-Assombrada"
          ],
          [
           "Velozes e Furiosos 10"
          ],
          [
           "A Origem"
          ],
          [
           "M3gan"
          ],
          [
           "Mob Land"
          ],
          [
           "Jurassic Park"
          ],
          [
           "Harry Potter e a Pedra Filosofal"
          ],
          [
           "Puppy Love"
          ],
          [
           "O Lobo de Wall Street"
          ],
          [
           "Tombstone: A Justiça Está Chegando"
          ],
          [
           "Fogo Contra Fogo"
          ]
         ],
         "hovertemplate": "0=%{x}<br>1=%{y}<br>2=%{z}<br>Feature=%{customdata[0]}<br>Anomaly=%{marker.color}<extra></extra>",
         "legendgroup": "",
         "marker": {
          "color": [
           1,
           0,
           0,
           0,
           0,
           0,
           0,
           0,
           0,
           0,
           0,
           0,
           0,
           1,
           0,
           0,
           1,
           0,
           1,
           0,
           0,
           0,
           0,
           0,
           0,
           0,
           1,
           0,
           0,
           0,
           0,
           0,
           0,
           0,
           0,
           0,
           0,
           0,
           0,
           0,
           0,
           0,
           0,
           0,
           0,
           0,
           0,
           0,
           0,
           0,
           0,
           0,
           0,
           0,
           0,
           0,
           0,
           0,
           0,
           0,
           0,
           0,
           0,
           0,
           0,
           0,
           0,
           0,
           0,
           0,
           0,
           0,
           0,
           0,
           0,
           1,
           0,
           0,
           0,
           0,
           0,
           0,
           0,
           0,
           0,
           0,
           0,
           0,
           0,
           0,
           0,
           0,
           0,
           0,
           0,
           1,
           0,
           0,
           0,
           0,
           0,
           1,
           0,
           0,
           0,
           0,
           0,
           0,
           0,
           0,
           0,
           1,
           0,
           0,
           0,
           0,
           0,
           0,
           0,
           0,
           0,
           0,
           0,
           0,
           0,
           0,
           1,
           0,
           0,
           0,
           0,
           0,
           0,
           0,
           0,
           0,
           0,
           0,
           0,
           0,
           0,
           0,
           0,
           0,
           0,
           0,
           0,
           0,
           0,
           0,
           0,
           0,
           0,
           0,
           0,
           0,
           0,
           0,
           0,
           0,
           0,
           0,
           0,
           0,
           0,
           0,
           0,
           0,
           0,
           0,
           0,
           0,
           0,
           0,
           0,
           0,
           1,
           0,
           0,
           0,
           0,
           0,
           1,
           1,
           0,
           0,
           0,
           0,
           0,
           0,
           0,
           0,
           0,
           0,
           0,
           0,
           0,
           1,
           0,
           0,
           0,
           0,
           0,
           1,
           0,
           0,
           0,
           0,
           0,
           0,
           0,
           0,
           0,
           0,
           0,
           0,
           0,
           0,
           0,
           0,
           0,
           0,
           0,
           0,
           0,
           0,
           0,
           0,
           0,
           0,
           0,
           0,
           0,
           0,
           0,
           0,
           0,
           1,
           0,
           0,
           0,
           0,
           0,
           0,
           0,
           0,
           0,
           0,
           0,
           0,
           0,
           0,
           0,
           0,
           1,
           0,
           0,
           0,
           0,
           0,
           0,
           0,
           0,
           0,
           0,
           1,
           0,
           0,
           0,
           0,
           0,
           0,
           0,
           0,
           0,
           0,
           0,
           0,
           0,
           0,
           0,
           0,
           0,
           0,
           0,
           0,
           0,
           0,
           0,
           0,
           0,
           0,
           0,
           0,
           0,
           0,
           0,
           0,
           0,
           0,
           0,
           0,
           1,
           0,
           0,
           0,
           0,
           0,
           0,
           0,
           0,
           0,
           0,
           0,
           0,
           0,
           0,
           0,
           0,
           0,
           0,
           0,
           0,
           0,
           0,
           0,
           0,
           0,
           0,
           1,
           0,
           0,
           0,
           0,
           0,
           0,
           0,
           0,
           0,
           0,
           0,
           0,
           0,
           0,
           0,
           0,
           0,
           0,
           0,
           0,
           0,
           0,
           0,
           1,
           0,
           0,
           0,
           0,
           0,
           0,
           0,
           0,
           0,
           0,
           0,
           0,
           0,
           0,
           0,
           0,
           0,
           0,
           0,
           0,
           0,
           0,
           0,
           1,
           0,
           0,
           0,
           0,
           0,
           0,
           0,
           0,
           0,
           0,
           0,
           0,
           0,
           0,
           0,
           0,
           0,
           0,
           0,
           0,
           0,
           0,
           0,
           0,
           0,
           0,
           0,
           0,
           0,
           0,
           0,
           0,
           0,
           0,
           0,
           0,
           0,
           0,
           0,
           0,
           0,
           0,
           0,
           0
          ],
          "coloraxis": "coloraxis",
          "opacity": 0.7,
          "symbol": "circle"
         },
         "mode": "markers",
         "name": "",
         "scene": "scene",
         "showlegend": false,
         "type": "scatter3d",
         "x": [
          13.053119,
          18.148598,
          5.9232397,
          0.19555123,
          1.3080348,
          15.3804,
          5.6309,
          2.935695,
          0.74473244,
          10.9354515,
          2.383393,
          7.1467376,
          12.7710285,
          4.7910056,
          20.6854,
          18.81334,
          6.73048,
          3.4206378,
          1.0748092,
          3.4861076,
          2.6175945,
          12.019283,
          6.760724,
          8.976076,
          1.6677146,
          1.1164103,
          17.2037,
          -10.999941,
          5.2635527,
          5.4795146,
          3.1264033,
          -1.6355952,
          -7.47654,
          -1.7008007,
          7.913679,
          21.255543,
          16.449385,
          -5.43256,
          22.200054,
          7.950396,
          14.833639,
          18.79715,
          11.357944,
          22.758713,
          11.402987,
          2.1251247,
          -6.026711,
          10.525852,
          -3.1784031,
          -1.7001184,
          19.85669,
          17.938858,
          -10.158572,
          11.00106,
          21.631844,
          18.177608,
          -10.268294,
          8.643716,
          2.9087572,
          -6.123677,
          -3.8836563,
          15.909436,
          0.2380171,
          -9.6058445,
          9.409028,
          4.7742743,
          4.75995,
          10.59189,
          -11.06644,
          -10.841113,
          3.5832043,
          3.906268,
          9.373979,
          -8.992876,
          -3.8863893,
          16.308413,
          19.452753,
          2.4460611,
          -10.300278,
          -4.5311522,
          9.0076475,
          9.770153,
          -0.46742594,
          14.8436165,
          -6.035806,
          6.3316164,
          19.363634,
          16.503437,
          21.55299,
          22.774317,
          17.316195,
          17.044302,
          17.65568,
          20.99831,
          1.6023213,
          9.755598,
          8.262383,
          13.902146,
          -4.6421747,
          -11.661243,
          -3.865506,
          16.635159,
          13.347465,
          -5.3463397,
          7.522298,
          23.109032,
          7.8840375,
          3.651097,
          20.290659,
          2.046505,
          -2.3784618,
          12.388495,
          -10.81699,
          -0.1759866,
          -8.793655,
          15.6835575,
          -0.8892976,
          17.352661,
          23.373423,
          -11.557295,
          -10.218876,
          19.858978,
          16.913078,
          3.0318244,
          8.995069,
          -2.3784204,
          4.7316656,
          -4.663786,
          -1.6990271,
          6.3775,
          2.9095771,
          1.6322585,
          20.501307,
          16.733707,
          -2.3195329,
          12.672446,
          0.23959282,
          16.19552,
          10.1445265,
          19.929953,
          0.54814744,
          10.934911,
          13.082914,
          -12.596963,
          -0.8893049,
          21.782515,
          10.9318,
          19.011667,
          -0.019643083,
          2.9348516,
          -3.870833,
          -8.3901205,
          -6.9055905,
          -9.509346,
          18.184843,
          4.404854,
          4.2192583,
          -5.434999,
          -3.0971358,
          1.140312,
          7.8689327,
          -0.46188843,
          -10.907003,
          3.9072826,
          -5.396966,
          10.128765,
          -6.911811,
          5.0261335,
          23.227108,
          -7.6887636,
          17.532682,
          -7.4699173,
          19.015867,
          12.697244,
          -8.861136,
          5.746475,
          23.17323,
          11.756213,
          18.001492,
          0.5688317,
          20.102869,
          19.260834,
          -7.619873,
          23.274067,
          -8.092495,
          7.5016627,
          21.785769,
          1.7244622,
          -4.5329046,
          -3.8675961,
          12.697249,
          18.001492,
          -8.083954,
          3.0298543,
          -10.803418,
          19.110548,
          -2.4793108,
          -0.17307997,
          23.056395,
          12.412636,
          -9.454117,
          8.571264,
          -8.291887,
          9.358621,
          -12.552548,
          -0.46188986,
          -6.8083267,
          12.412636,
          8.547505,
          20.686005,
          21.754148,
          -2.4079378,
          4.7154293,
          13.352353,
          0.23929888,
          -0.017122129,
          21.304152,
          -1.0408167,
          5.7611217,
          21.638723,
          -3.919582,
          15.4064245,
          -8.749654,
          2.4521136,
          21.638723,
          15.117761,
          18.575676,
          15.708753,
          22.44336,
          2.4634478,
          17.579794,
          -5.3524275,
          15.4064245,
          11.372558,
          6.2515125,
          -8.291817,
          -3.4741106,
          15.46952,
          -4.7969847,
          -0.87453675,
          -3.4741101,
          -7.0106134,
          -0.2905591,
          -1.5001011,
          -2.8166666,
          -10.59919,
          1.3579277,
          -2.1374335,
          -1.456012,
          -4.179201,
          -9.133953,
          -0.3366511,
          6.601954,
          -6.029052,
          -2.0177574,
          -3.5181487,
          -0.27185237,
          -2.233729,
          -9.44674,
          -0.8816198,
          1.8105818,
          0.8016683,
          -7.3667383,
          7.0659213,
          -10.612013,
          6.4746222,
          -1.4795275,
          -11.210831,
          6.7636576,
          -6.8731856,
          -11.275823,
          -9.991705,
          -10.59719,
          -8.985108,
          -2.8288157,
          -5.357501,
          0.34978563,
          15.786919,
          -8.965304,
          -0.8652028,
          3.116501,
          -11.914347,
          -4.8042827,
          -8.449352,
          2.6642911,
          -6.430917,
          -9.644249,
          -8.961013,
          -10.101278,
          -10.079063,
          -4.7649727,
          -11.754547,
          -6.353318,
          -0.20071904,
          3.4173555,
          -6.897384,
          -0.14492862,
          0.3562693,
          3.6924095,
          -2.902194,
          -2.8941884,
          14.555828,
          -3.5610132,
          2.6850083,
          3.0173059,
          0.36069024,
          -7.95953,
          2.2906053,
          2.6900609,
          -10.1223755,
          -7.8644695,
          6.498697,
          0.32282078,
          -5.3762407,
          2.7649949,
          3.7016969,
          8.69089,
          7.1481442,
          1.3932089,
          -2.2295704,
          -9.360705,
          -1.6223575,
          -2.8859308,
          6.899407,
          -5.357501,
          -1.5045556,
          -5.853677,
          -2.8199794,
          -3.5626516,
          -6.8251233,
          -2.906005,
          2.3333807,
          1.3388013,
          -5.3896217,
          -4.1953273,
          -4.1840115,
          -14.521808,
          -15.457305,
          -15.854055,
          -14.018012,
          -13.97322,
          -14.421619,
          -13.2567005,
          -13.97322,
          -14.234331,
          -14.135335,
          -14.643845,
          -14.234331,
          -14.854095,
          -13.518079,
          -15.069382,
          -15.890838,
          -14.2014065,
          -12.969402,
          -13.237734,
          -14.4422455,
          -15.462619,
          -14.375326,
          -15.6527195,
          -15.047837,
          -13.31236,
          -14.4422455,
          -14.776505,
          -14.745044,
          -15.475224,
          -12.8452425,
          -15.297957,
          -15.842464,
          -7.436873,
          -15.815699,
          -8.276359,
          -13.223888,
          -13.24467,
          -7.7202744,
          -9.696882,
          -11.451859,
          -12.648256,
          -13.417648,
          -13.817161,
          -14.294444,
          -14.375326,
          -14.355793,
          -13.703541,
          -12.413963,
          -14.268869,
          13.595385,
          5.705149,
          -12.596376,
          -15.858824,
          -13.4355545,
          -15.151092,
          -15.38669,
          -13.449331,
          -14.181905,
          -14.491252,
          -3.129417,
          -15.408498,
          -14.268869,
          -13.927081,
          -6.3061895,
          -9.875207,
          -14.580912,
          -13.567412,
          -4.716059,
          -12.831573,
          -13.312372,
          5.936782,
          1.8449187,
          -14.611953,
          -6.9104137,
          5.689315,
          4.962863,
          3.9196243,
          -13.43719,
          -14.406221,
          -10.72323,
          5.316123,
          -13.449325,
          -11.956981,
          -15.076055,
          1.9153895,
          -10.69817
         ],
         "y": [
          2.6015577,
          0.1342323,
          -0.4272015,
          -5.5320973,
          -4.4939175,
          1.4074028,
          -0.98530287,
          -3.5009303,
          -5.0977154,
          2.631553,
          -3.2138689,
          0.7627044,
          2.858302,
          -1.1421692,
          -1.5627971,
          -0.62422943,
          0.4101395,
          -2.9154441,
          -5.4252243,
          -1.9727554,
          -3.2796974,
          2.6854572,
          0.44294265,
          2.2073026,
          -4.747618,
          -5.35254,
          0.6399422,
          -4.324068,
          -0.48884356,
          -0.6542252,
          -2.6942844,
          -7.313308,
          -6.2558746,
          -7.0271173,
          1.4078096,
          -2.0270958,
          0.7098687,
          -7.520852,
          -2.2768934,
          1.4231175,
          1.7139711,
          -0.6604788,
          2.739603,
          -2.2307637,
          2.7920678,
          -4.028671,
          -6.95196,
          2.7052653,
          -7.602113,
          -7.0263925,
          -1.148023,
          -0.29916498,
          -4.472242,
          2.756207,
          -2.1391513,
          0.16082802,
          -4.8351197,
          1.895682,
          -3.4715714,
          -7.102808,
          -7.6938243,
          1.0598611,
          -5.6450763,
          -5.2148705,
          2.387713,
          -0.9058528,
          -0.8477403,
          2.7451618,
          -4.430616,
          -4.118021,
          -1.9393858,
          -2.2975874,
          2.4659312,
          -5.660937,
          -7.769815,
          1.1347895,
          -0.75609446,
          -4.053279,
          -4.6640997,
          -7.556914,
          2.1072855,
          2.5329506,
          -6.3392596,
          1.7081438,
          -6.9619393,
          0.063099355,
          -0.9897006,
          0.73178416,
          -1.76836,
          -2.1119862,
          0.17453223,
          0.27244765,
          0.02826016,
          -1.7959919,
          -4.5147743,
          2.620137,
          1.714354,
          2.1593876,
          -7.2252917,
          -3.9288006,
          -7.6254935,
          1.0083506,
          2.4090688,
          -7.1373773,
          1.1570798,
          -2.0552309,
          1.46457,
          -2.0366645,
          -1.3594344,
          -3.9114077,
          -7.186594,
          2.7666812,
          -4.0538244,
          -6.3541074,
          -5.393365,
          1.2961153,
          -6.739375,
          0.09953597,
          -1.8082632,
          -3.9125133,
          -4.6937366,
          -1.1453744,
          0.7175027,
          -2.494851,
          2.1696544,
          -7.1851406,
          -1.1047689,
          -7.644165,
          -7.023867,
          -0.014983309,
          -3.4694452,
          -4.808187,
          -1.4522883,
          0.51260984,
          -7.525077,
          2.4213033,
          -5.6680613,
          0.8974076,
          2.7848396,
          -0.9824819,
          -6.164924,
          2.9796112,
          2.649129,
          -3.073081,
          -6.7393517,
          -2.126438,
          2.9871323,
          -0.32856417,
          -6.611009,
          -2.596727,
          -7.2436213,
          -6.1123996,
          -6.9306564,
          -5.0341926,
          0.08283916,
          -1.757113,
          -1.5116068,
          -7.4550295,
          -7.2833056,
          -5.3754473,
          1.4780371,
          -6.354234,
          -4.468046,
          -2.291382,
          -7.492223,
          2.7018595,
          -6.8307147,
          -1.3721449,
          -1.8990055,
          -6.653184,
          0.38422537,
          -6.2346745,
          -0.3290267,
          2.3863792,
          -5.6707344,
          -0.16484568,
          -1.9238378,
          2.8364909,
          -0.25778523,
          -6.0425816,
          -1.2015002,
          -0.621975,
          -6.5148454,
          -1.8734025,
          -5.8014016,
          1.1728189,
          -2.2030985,
          -4.773886,
          -7.548672,
          -7.616541,
          2.3863854,
          -0.25778523,
          -5.8695374,
          -2.4868343,
          -4.020887,
          -0.8795394,
          -7.502286,
          -6.362808,
          -2.0527918,
          2.8141217,
          -4.863273,
          1.9750547,
          -6.1165957,
          2.4175577,
          -3.4926372,
          -6.3542314,
          -6.6832576,
          2.8141217,
          2.060879,
          -1.5612496,
          -2.3050194,
          -7.5084724,
          -1.0937923,
          2.3985236,
          -5.6772394,
          -6.6236796,
          -2.0275788,
          -6.7458816,
          -0.07513648,
          -1.9852806,
          -7.627506,
          1.4271617,
          -5.500153,
          -4.0599513,
          -1.9852806,
          1.5801437,
          -0.5473525,
          1.3267102,
          -2.256411,
          -3.1667533,
          0.5353628,
          -7.135562,
          1.4271617,
          2.9576013,
          0.18263157,
          -6.1761703,
          4.179824,
          1.4806657,
          4.153093,
          3.9912784,
          4.1798167,
          3.425188,
          3.893178,
          3.991221,
          4.4676433,
          2.7005434,
          3.0696912,
          4.148077,
          4.125321,
          4.1765833,
          2.9692721,
          3.802607,
          3.0629992,
          3.8536952,
          4.4759655,
          3.9634442,
          3.698449,
          3.9382527,
          2.6815536,
          4.0330405,
          2.8734448,
          3.3260925,
          3.1689959,
          3.0652182,
          2.648551,
          2.9983106,
          3.9986906,
          2.5205317,
          3.0673432,
          3.2776892,
          2.5116634,
          2.4576533,
          2.75265,
          2.9055607,
          4.1222816,
          3.6538756,
          3.4971986,
          1.3052622,
          2.615729,
          3.8002758,
          2.375474,
          2.3012354,
          3.7369106,
          2.7819262,
          2.50476,
          3.3876195,
          2.8210385,
          2.600732,
          2.7138789,
          2.6733418,
          3.8388681,
          2.3685353,
          3.3946595,
          3.5940356,
          2.3036885,
          3.2982209,
          3.5596519,
          3.4716265,
          2.264271,
          3.8627872,
          3.8898387,
          1.9021413,
          4.1407604,
          2.4724188,
          2.3748233,
          3.462383,
          3.1809268,
          2.6506,
          2.4599314,
          2.7585282,
          2.9667418,
          2.9705667,
          3.4510617,
          3.6820817,
          2.462042,
          2.277897,
          3.3644164,
          2.9894116,
          3.0368598,
          3.8215985,
          2.4677634,
          3.75464,
          4.112144,
          2.9999573,
          3.6538756,
          3.9001725,
          3.4905171,
          3.8506207,
          3.7414043,
          3.2498443,
          4.0561438,
          2.6045086,
          3.0551794,
          3.653742,
          3.9538481,
          3.761586,
          0.49052525,
          -2.5759244,
          -1.0412313,
          -0.44628695,
          -0.2939067,
          1.1653714,
          1.4320245,
          -0.2939067,
          -1.3014805,
          -0.8750575,
          0.17616494,
          -1.3014805,
          -0.58454,
          1.0909919,
          -1.4293127,
          -0.34103158,
          -1.15776,
          -0.98339546,
          0.76962626,
          -2.0050077,
          0.39272857,
          -1.8136404,
          -2.482082,
          -1.3458078,
          1.3762951,
          -2.0050077,
          -2.5749505,
          -0.16690308,
          0.5543722,
          -0.49928325,
          -2.262089,
          -0.12794922,
          -6.206719,
          -0.053550508,
          -6.102657,
          0.8160399,
          0.7234885,
          -6.712371,
          -3.280125,
          -3.4318101,
          1.7014381,
          1.2491254,
          1.6402097,
          -1.2643977,
          -1.8136404,
          -1.4851679,
          0.63302904,
          -1.050844,
          -1.4431891,
          2.3066554,
          -1.0641418,
          -3.031021,
          -1.0102112,
          -2.286076,
          -1.6897185,
          0.5368651,
          -2.3952441,
          -2.6443555,
          0.55149376,
          -7.7610497,
          0.500806,
          -1.4431891,
          -0.13791803,
          -7.3158484,
          -3.7219203,
          0.3517413,
          0.9952453,
          -7.7796397,
          -0.376731,
          1.3763143,
          -0.2929083,
          -4.783641,
          0.2695005,
          -6.831637,
          -0.06754591,
          -1.0354784,
          -2.2797568,
          -2.6154287,
          1.1410638,
          -3.9580452,
          -0.7788937,
          -2.3952382,
          2.2796397,
          1.0609202,
          -3.8766172,
          -3.80016
         ],
         "z": [
          -0.62928855,
          0.2886026,
          -1.3436862,
          0.17953575,
          -0.075538956,
          -0.23164749,
          -0.9420987,
          -0.11726595,
          0.07130658,
          -0.9048168,
          -0.35946512,
          -1.2885147,
          -0.8914753,
          -1.1232576,
          0.51030636,
          0.43933246,
          -1.2529846,
          -0.23699023,
          -0.035758354,
          -0.30937317,
          -0.5315392,
          -0.778969,
          -1.2016224,
          -1.3809454,
          -0.11449149,
          0.33885345,
          0.06771193,
          0.28625497,
          -0.84225905,
          -0.6616666,
          -0.65724456,
          0.39427942,
          0.35503694,
          0.21923587,
          -1.3322325,
          0.7248494,
          -0.0062868316,
          0.25992858,
          0.6627627,
          -1.3449898,
          -0.4080807,
          0.40943143,
          -0.8671605,
          0.46626937,
          -1.1953608,
          -0.19103616,
          0.2835107,
          -0.96685874,
          0.055455886,
          0.21969837,
          0.34443015,
          0.12560427,
          -0.15734974,
          -1.2561466,
          0.3980058,
          0.1780413,
          0.07871306,
          -1.2201253,
          -0.07433241,
          -0.040127918,
          0.40596,
          -0.20855328,
          0.22034639,
          0.0948483,
          -1.3289343,
          -0.60425115,
          -0.7440832,
          -1.2663584,
          0.034080468,
          -0.21880548,
          -0.45507896,
          -0.37798244,
          -1.3155674,
          0.13823314,
          0.379034,
          -0.17755434,
          0.47778744,
          0.026755907,
          0.2856688,
          -0.07927718,
          -1.3593693,
          -1.0639669,
          0.017902384,
          -0.4446619,
          0.2665399,
          -1.2319167,
          0.25394034,
          -0.3857413,
          0.6052253,
          0.78010994,
          0.17637464,
          -0.24044539,
          0.2742807,
          0.56146455,
          0.2375914,
          -1.2598774,
          -1.3388456,
          -0.6657538,
          0.32989413,
          0.023451354,
          -0.04665065,
          -0.17950721,
          -0.8166217,
          0.2770448,
          -1.272316,
          0.4406553,
          -1.272571,
          -0.77606064,
          0.43407375,
          0.17364617,
          0.26095185,
          -0.6587781,
          -0.18870273,
          0.5917679,
          -0.05551854,
          -0.30140445,
          0.48972186,
          -0.2412791,
          0.46672955,
          0.19199422,
          0.04188319,
          0.33955806,
          -0.34068277,
          -0.1311542,
          -1.1145934,
          0.25956735,
          -1.0859419,
          0.3578572,
          0.21841177,
          -1.123996,
          -0.06361128,
          0.26946703,
          0.4600528,
          -0.004267736,
          0.36814505,
          -0.7330039,
          0.23446475,
          -0.3705923,
          -1.1498582,
          0.3804823,
          0.1704913,
          -1.0127747,
          -0.96836764,
          -0.25255913,
          0.48972496,
          0.8496323,
          -1.008909,
          0.22228804,
          0.21035972,
          -0.44511834,
          0.33809364,
          0.2021311,
          0.061220553,
          0.08469503,
          -0.18916644,
          -0.5094127,
          -0.86416394,
          -0.007621957,
          0.30465207,
          0.36541197,
          -1.3001095,
          0.016342653,
          0.09819147,
          -0.37623352,
          0.05352187,
          -1.0184674,
          0.11797252,
          -0.65943813,
          0.5085485,
          0.10967728,
          -0.31578007,
          0.28520918,
          0.1990948,
          -0.98761785,
          -0.10370533,
          -1.2479569,
          0.5263692,
          -1.117503,
          -0.11578162,
          0.03594509,
          0.4224788,
          0.033181816,
          -0.10790833,
          0.50126475,
          -0.12503146,
          -1.2775533,
          0.44063044,
          -0.04757507,
          -0.08908331,
          -0.055817563,
          -0.9876347,
          -0.11578162,
          0.29917392,
          -0.12502536,
          -0.17532657,
          0.09906978,
          0.09385416,
          0.59225005,
          0.6964947,
          -1.0983932,
          -0.05135347,
          -1.3265513,
          -0.15426134,
          -1.0691146,
          -0.049099054,
          0.016343297,
          -0.10399445,
          -1.0983932,
          -1.3052313,
          0.5094167,
          0.64093393,
          0.35901448,
          -1.0815003,
          -0.8447812,
          0.24334477,
          0.21210246,
          0.42164332,
          0.130871,
          -0.9010832,
          0.8512176,
          0.45008823,
          -0.357348,
          0.23184927,
          0.048682295,
          0.8512176,
          -0.40280584,
          -0.011221264,
          -0.32971537,
          0.6582943,
          -0.003870688,
          -0.021787032,
          0.26749703,
          -0.357348,
          -0.91740525,
          -1.0919167,
          0.21618326,
          -0.061636947,
          -1.4983662,
          -0.03732828,
          -0.06923809,
          -0.061638243,
          -0.060715094,
          0.3503531,
          0.07681766,
          0.32003853,
          -0.25024572,
          0.30741733,
          -0.093364045,
          0.4953319,
          0.40793628,
          -0.17105366,
          0.05791908,
          -0.46706733,
          -0.15544473,
          0.13313515,
          0.23223163,
          0.262697,
          0.2787898,
          -0.17779517,
          -0.14965177,
          0.2621732,
          0.32419145,
          0.010202252,
          -0.56014603,
          -0.24628557,
          -0.45850813,
          0.7004655,
          -0.24182038,
          -0.5001613,
          0.08655268,
          -0.21746531,
          -0.19603261,
          -0.25665894,
          -0.1530653,
          0.018851623,
          0.2745699,
          0.43062225,
          -1.3912466,
          -0.13524087,
          0.7670642,
          0.08826425,
          -0.30415437,
          0.34428257,
          -0.088808015,
          0.16271791,
          0.15056972,
          -0.20328371,
          -0.13426736,
          -0.22543186,
          -0.22251952,
          0.20765193,
          -0.1878568,
          0.18243644,
          0.47842568,
          0.034347918,
          0.06466588,
          0.70110744,
          0.46050638,
          -0.017770967,
          0.37962136,
          0.34104297,
          -1.2752119,
          0.75307846,
          0.16091302,
          0.10620629,
          0.47913998,
          -0.09521165,
          0.21321017,
          0.16073567,
          -0.22985326,
          -0.024878046,
          -0.47222883,
          0.4208591,
          0.3583308,
          0.14526631,
          -0.01693153,
          -0.6672086,
          -0.6041338,
          0.32417035,
          0.99658215,
          -0.15953156,
          0.9601381,
          0.9046631,
          -0.5525064,
          0.2745699,
          0.9051613,
          0.272083,
          0.9205914,
          0.56035304,
          0.119964525,
          0.98804957,
          0.21134444,
          0.32750186,
          0.35106614,
          0.70146084,
          0.41146842,
          1.2075834,
          -0.22272146,
          -0.74118996,
          -0.973935,
          -0.94503653,
          0.49705547,
          -0.6050704,
          -0.94503653,
          -1.0039443,
          -1.0190144,
          1.2096065,
          -1.0039443,
          1.1344005,
          -0.63567746,
          0.8889465,
          0.037533578,
          -1.0150518,
          0.93061686,
          0.81258404,
          -0.88277394,
          -1.0100766,
          -0.9237484,
          -0.1423637,
          0.9207961,
          -0.61174756,
          -0.88277394,
          0.23548368,
          1.1961802,
          0.1635761,
          1.0317676,
          -0.1904208,
          0.055558987,
          -0.33324057,
          0.06599978,
          -0.19574007,
          0.7947463,
          0.8283134,
          0.23073213,
          0.0344805,
          -0.12678766,
          0.25658834,
          -0.622485,
          0.29663834,
          1.3256254,
          -0.9237484,
          1.2393873,
          -0.71588373,
          1.2290289,
          -0.9880314,
          -0.6623398,
          -1.0045844,
          -0.25273013,
          -0.74530584,
          -0.48867008,
          0.7734195,
          -0.94917804,
          -0.4892292,
          0.46496332,
          1.2106982,
          0.40401468,
          -0.96680284,
          -0.9880314,
          -0.9107777,
          -0.020292738,
          0.014961638,
          1.207019,
          -0.64713895,
          0.26901466,
          1.0369321,
          -0.6117485,
          -0.80120945,
          0.35013372,
          1.2084861,
          0.13256748,
          -1.2092009,
          -0.5102703,
          -0.3634349,
          -0.49702922,
          0.49868292,
          0.2778677,
          -1.3162374,
          -0.48922545,
          -0.30839553,
          0.18312623,
          -0.19936202,
          0.37918535
         ]
        }
       ],
       "layout": {
        "coloraxis": {
         "colorbar": {
          "title": {
           "text": "Anomaly"
          }
         },
         "colorscale": [
          [
           0,
           "#0d0887"
          ],
          [
           0.1111111111111111,
           "#46039f"
          ],
          [
           0.2222222222222222,
           "#7201a8"
          ],
          [
           0.3333333333333333,
           "#9c179e"
          ],
          [
           0.4444444444444444,
           "#bd3786"
          ],
          [
           0.5555555555555556,
           "#d8576b"
          ],
          [
           0.6666666666666666,
           "#ed7953"
          ],
          [
           0.7777777777777778,
           "#fb9f3a"
          ],
          [
           0.8888888888888888,
           "#fdca26"
          ],
          [
           1,
           "#f0f921"
          ]
         ]
        },
        "height": 800,
        "legend": {
         "tracegroupgap": 0
        },
        "scene": {
         "domain": {
          "x": [
           0,
           1
          ],
          "y": [
           0,
           1
          ]
         },
         "xaxis": {
          "title": {
           "text": "0"
          }
         },
         "yaxis": {
          "title": {
           "text": "1"
          }
         },
         "zaxis": {
          "title": {
           "text": "2"
          }
         }
        },
        "template": {
         "data": {
          "bar": [
           {
            "error_x": {
             "color": "#2a3f5f"
            },
            "error_y": {
             "color": "#2a3f5f"
            },
            "marker": {
             "line": {
              "color": "#E5ECF6",
              "width": 0.5
             },
             "pattern": {
              "fillmode": "overlay",
              "size": 10,
              "solidity": 0.2
             }
            },
            "type": "bar"
           }
          ],
          "barpolar": [
           {
            "marker": {
             "line": {
              "color": "#E5ECF6",
              "width": 0.5
             },
             "pattern": {
              "fillmode": "overlay",
              "size": 10,
              "solidity": 0.2
             }
            },
            "type": "barpolar"
           }
          ],
          "carpet": [
           {
            "aaxis": {
             "endlinecolor": "#2a3f5f",
             "gridcolor": "white",
             "linecolor": "white",
             "minorgridcolor": "white",
             "startlinecolor": "#2a3f5f"
            },
            "baxis": {
             "endlinecolor": "#2a3f5f",
             "gridcolor": "white",
             "linecolor": "white",
             "minorgridcolor": "white",
             "startlinecolor": "#2a3f5f"
            },
            "type": "carpet"
           }
          ],
          "choropleth": [
           {
            "colorbar": {
             "outlinewidth": 0,
             "ticks": ""
            },
            "type": "choropleth"
           }
          ],
          "contour": [
           {
            "colorbar": {
             "outlinewidth": 0,
             "ticks": ""
            },
            "colorscale": [
             [
              0,
              "#0d0887"
             ],
             [
              0.1111111111111111,
              "#46039f"
             ],
             [
              0.2222222222222222,
              "#7201a8"
             ],
             [
              0.3333333333333333,
              "#9c179e"
             ],
             [
              0.4444444444444444,
              "#bd3786"
             ],
             [
              0.5555555555555556,
              "#d8576b"
             ],
             [
              0.6666666666666666,
              "#ed7953"
             ],
             [
              0.7777777777777778,
              "#fb9f3a"
             ],
             [
              0.8888888888888888,
              "#fdca26"
             ],
             [
              1,
              "#f0f921"
             ]
            ],
            "type": "contour"
           }
          ],
          "contourcarpet": [
           {
            "colorbar": {
             "outlinewidth": 0,
             "ticks": ""
            },
            "type": "contourcarpet"
           }
          ],
          "heatmap": [
           {
            "colorbar": {
             "outlinewidth": 0,
             "ticks": ""
            },
            "colorscale": [
             [
              0,
              "#0d0887"
             ],
             [
              0.1111111111111111,
              "#46039f"
             ],
             [
              0.2222222222222222,
              "#7201a8"
             ],
             [
              0.3333333333333333,
              "#9c179e"
             ],
             [
              0.4444444444444444,
              "#bd3786"
             ],
             [
              0.5555555555555556,
              "#d8576b"
             ],
             [
              0.6666666666666666,
              "#ed7953"
             ],
             [
              0.7777777777777778,
              "#fb9f3a"
             ],
             [
              0.8888888888888888,
              "#fdca26"
             ],
             [
              1,
              "#f0f921"
             ]
            ],
            "type": "heatmap"
           }
          ],
          "heatmapgl": [
           {
            "colorbar": {
             "outlinewidth": 0,
             "ticks": ""
            },
            "colorscale": [
             [
              0,
              "#0d0887"
             ],
             [
              0.1111111111111111,
              "#46039f"
             ],
             [
              0.2222222222222222,
              "#7201a8"
             ],
             [
              0.3333333333333333,
              "#9c179e"
             ],
             [
              0.4444444444444444,
              "#bd3786"
             ],
             [
              0.5555555555555556,
              "#d8576b"
             ],
             [
              0.6666666666666666,
              "#ed7953"
             ],
             [
              0.7777777777777778,
              "#fb9f3a"
             ],
             [
              0.8888888888888888,
              "#fdca26"
             ],
             [
              1,
              "#f0f921"
             ]
            ],
            "type": "heatmapgl"
           }
          ],
          "histogram": [
           {
            "marker": {
             "pattern": {
              "fillmode": "overlay",
              "size": 10,
              "solidity": 0.2
             }
            },
            "type": "histogram"
           }
          ],
          "histogram2d": [
           {
            "colorbar": {
             "outlinewidth": 0,
             "ticks": ""
            },
            "colorscale": [
             [
              0,
              "#0d0887"
             ],
             [
              0.1111111111111111,
              "#46039f"
             ],
             [
              0.2222222222222222,
              "#7201a8"
             ],
             [
              0.3333333333333333,
              "#9c179e"
             ],
             [
              0.4444444444444444,
              "#bd3786"
             ],
             [
              0.5555555555555556,
              "#d8576b"
             ],
             [
              0.6666666666666666,
              "#ed7953"
             ],
             [
              0.7777777777777778,
              "#fb9f3a"
             ],
             [
              0.8888888888888888,
              "#fdca26"
             ],
             [
              1,
              "#f0f921"
             ]
            ],
            "type": "histogram2d"
           }
          ],
          "histogram2dcontour": [
           {
            "colorbar": {
             "outlinewidth": 0,
             "ticks": ""
            },
            "colorscale": [
             [
              0,
              "#0d0887"
             ],
             [
              0.1111111111111111,
              "#46039f"
             ],
             [
              0.2222222222222222,
              "#7201a8"
             ],
             [
              0.3333333333333333,
              "#9c179e"
             ],
             [
              0.4444444444444444,
              "#bd3786"
             ],
             [
              0.5555555555555556,
              "#d8576b"
             ],
             [
              0.6666666666666666,
              "#ed7953"
             ],
             [
              0.7777777777777778,
              "#fb9f3a"
             ],
             [
              0.8888888888888888,
              "#fdca26"
             ],
             [
              1,
              "#f0f921"
             ]
            ],
            "type": "histogram2dcontour"
           }
          ],
          "mesh3d": [
           {
            "colorbar": {
             "outlinewidth": 0,
             "ticks": ""
            },
            "type": "mesh3d"
           }
          ],
          "parcoords": [
           {
            "line": {
             "colorbar": {
              "outlinewidth": 0,
              "ticks": ""
             }
            },
            "type": "parcoords"
           }
          ],
          "pie": [
           {
            "automargin": true,
            "type": "pie"
           }
          ],
          "scatter": [
           {
            "fillpattern": {
             "fillmode": "overlay",
             "size": 10,
             "solidity": 0.2
            },
            "type": "scatter"
           }
          ],
          "scatter3d": [
           {
            "line": {
             "colorbar": {
              "outlinewidth": 0,
              "ticks": ""
             }
            },
            "marker": {
             "colorbar": {
              "outlinewidth": 0,
              "ticks": ""
             }
            },
            "type": "scatter3d"
           }
          ],
          "scattercarpet": [
           {
            "marker": {
             "colorbar": {
              "outlinewidth": 0,
              "ticks": ""
             }
            },
            "type": "scattercarpet"
           }
          ],
          "scattergeo": [
           {
            "marker": {
             "colorbar": {
              "outlinewidth": 0,
              "ticks": ""
             }
            },
            "type": "scattergeo"
           }
          ],
          "scattergl": [
           {
            "marker": {
             "colorbar": {
              "outlinewidth": 0,
              "ticks": ""
             }
            },
            "type": "scattergl"
           }
          ],
          "scattermapbox": [
           {
            "marker": {
             "colorbar": {
              "outlinewidth": 0,
              "ticks": ""
             }
            },
            "type": "scattermapbox"
           }
          ],
          "scatterpolar": [
           {
            "marker": {
             "colorbar": {
              "outlinewidth": 0,
              "ticks": ""
             }
            },
            "type": "scatterpolar"
           }
          ],
          "scatterpolargl": [
           {
            "marker": {
             "colorbar": {
              "outlinewidth": 0,
              "ticks": ""
             }
            },
            "type": "scatterpolargl"
           }
          ],
          "scatterternary": [
           {
            "marker": {
             "colorbar": {
              "outlinewidth": 0,
              "ticks": ""
             }
            },
            "type": "scatterternary"
           }
          ],
          "surface": [
           {
            "colorbar": {
             "outlinewidth": 0,
             "ticks": ""
            },
            "colorscale": [
             [
              0,
              "#0d0887"
             ],
             [
              0.1111111111111111,
              "#46039f"
             ],
             [
              0.2222222222222222,
              "#7201a8"
             ],
             [
              0.3333333333333333,
              "#9c179e"
             ],
             [
              0.4444444444444444,
              "#bd3786"
             ],
             [
              0.5555555555555556,
              "#d8576b"
             ],
             [
              0.6666666666666666,
              "#ed7953"
             ],
             [
              0.7777777777777778,
              "#fb9f3a"
             ],
             [
              0.8888888888888888,
              "#fdca26"
             ],
             [
              1,
              "#f0f921"
             ]
            ],
            "type": "surface"
           }
          ],
          "table": [
           {
            "cells": {
             "fill": {
              "color": "#EBF0F8"
             },
             "line": {
              "color": "white"
             }
            },
            "header": {
             "fill": {
              "color": "#C8D4E3"
             },
             "line": {
              "color": "white"
             }
            },
            "type": "table"
           }
          ]
         },
         "layout": {
          "annotationdefaults": {
           "arrowcolor": "#2a3f5f",
           "arrowhead": 0,
           "arrowwidth": 1
          },
          "autotypenumbers": "strict",
          "coloraxis": {
           "colorbar": {
            "outlinewidth": 0,
            "ticks": ""
           }
          },
          "colorscale": {
           "diverging": [
            [
             0,
             "#8e0152"
            ],
            [
             0.1,
             "#c51b7d"
            ],
            [
             0.2,
             "#de77ae"
            ],
            [
             0.3,
             "#f1b6da"
            ],
            [
             0.4,
             "#fde0ef"
            ],
            [
             0.5,
             "#f7f7f7"
            ],
            [
             0.6,
             "#e6f5d0"
            ],
            [
             0.7,
             "#b8e186"
            ],
            [
             0.8,
             "#7fbc41"
            ],
            [
             0.9,
             "#4d9221"
            ],
            [
             1,
             "#276419"
            ]
           ],
           "sequential": [
            [
             0,
             "#0d0887"
            ],
            [
             0.1111111111111111,
             "#46039f"
            ],
            [
             0.2222222222222222,
             "#7201a8"
            ],
            [
             0.3333333333333333,
             "#9c179e"
            ],
            [
             0.4444444444444444,
             "#bd3786"
            ],
            [
             0.5555555555555556,
             "#d8576b"
            ],
            [
             0.6666666666666666,
             "#ed7953"
            ],
            [
             0.7777777777777778,
             "#fb9f3a"
            ],
            [
             0.8888888888888888,
             "#fdca26"
            ],
            [
             1,
             "#f0f921"
            ]
           ],
           "sequentialminus": [
            [
             0,
             "#0d0887"
            ],
            [
             0.1111111111111111,
             "#46039f"
            ],
            [
             0.2222222222222222,
             "#7201a8"
            ],
            [
             0.3333333333333333,
             "#9c179e"
            ],
            [
             0.4444444444444444,
             "#bd3786"
            ],
            [
             0.5555555555555556,
             "#d8576b"
            ],
            [
             0.6666666666666666,
             "#ed7953"
            ],
            [
             0.7777777777777778,
             "#fb9f3a"
            ],
            [
             0.8888888888888888,
             "#fdca26"
            ],
            [
             1,
             "#f0f921"
            ]
           ]
          },
          "colorway": [
           "#636efa",
           "#EF553B",
           "#00cc96",
           "#ab63fa",
           "#FFA15A",
           "#19d3f3",
           "#FF6692",
           "#B6E880",
           "#FF97FF",
           "#FECB52"
          ],
          "font": {
           "color": "#2a3f5f"
          },
          "geo": {
           "bgcolor": "white",
           "lakecolor": "white",
           "landcolor": "#E5ECF6",
           "showlakes": true,
           "showland": true,
           "subunitcolor": "white"
          },
          "hoverlabel": {
           "align": "left"
          },
          "hovermode": "closest",
          "mapbox": {
           "style": "light"
          },
          "paper_bgcolor": "white",
          "plot_bgcolor": "#E5ECF6",
          "polar": {
           "angularaxis": {
            "gridcolor": "white",
            "linecolor": "white",
            "ticks": ""
           },
           "bgcolor": "#E5ECF6",
           "radialaxis": {
            "gridcolor": "white",
            "linecolor": "white",
            "ticks": ""
           }
          },
          "scene": {
           "xaxis": {
            "backgroundcolor": "#E5ECF6",
            "gridcolor": "white",
            "gridwidth": 2,
            "linecolor": "white",
            "showbackground": true,
            "ticks": "",
            "zerolinecolor": "white"
           },
           "yaxis": {
            "backgroundcolor": "#E5ECF6",
            "gridcolor": "white",
            "gridwidth": 2,
            "linecolor": "white",
            "showbackground": true,
            "ticks": "",
            "zerolinecolor": "white"
           },
           "zaxis": {
            "backgroundcolor": "#E5ECF6",
            "gridcolor": "white",
            "gridwidth": 2,
            "linecolor": "white",
            "showbackground": true,
            "ticks": "",
            "zerolinecolor": "white"
           }
          },
          "shapedefaults": {
           "line": {
            "color": "#2a3f5f"
           }
          },
          "ternary": {
           "aaxis": {
            "gridcolor": "white",
            "linecolor": "white",
            "ticks": ""
           },
           "baxis": {
            "gridcolor": "white",
            "linecolor": "white",
            "ticks": ""
           },
           "bgcolor": "#E5ECF6",
           "caxis": {
            "gridcolor": "white",
            "linecolor": "white",
            "ticks": ""
           }
          },
          "title": {
           "x": 0.05
          },
          "xaxis": {
           "automargin": true,
           "gridcolor": "white",
           "linecolor": "white",
           "ticks": "",
           "title": {
            "standoff": 15
           },
           "zerolinecolor": "white",
           "zerolinewidth": 2
          },
          "yaxis": {
           "automargin": true,
           "gridcolor": "white",
           "linecolor": "white",
           "ticks": "",
           "title": {
            "standoff": 15
           },
           "zerolinecolor": "white",
           "zerolinewidth": 2
          }
         }
        },
        "title": {
         "text": "3d TSNE Plot for Outliers"
        },
        "width": 900
       }
      }
     },
     "metadata": {},
     "output_type": "display_data"
    }
   ],
   "source": [
    "\n",
    "\n",
    "# Fit NearestNeighbors using the TF-IDF matrix\n",
    "nbrs = NearestNeighbors(n_neighbors=11).fit(tfidf_matrix)\n",
    "\n",
    "# Get the TF-IDF vector for a specific movie\n",
    "movie_index = df[df['title_en'] == 'The Godfather Part II'].index[0]\n",
    "movie_vector = tfidf_matrix[movie_index]\n",
    "\n",
    "# Retrieve the indices of the 10 most similar movies\n",
    "distances, indices = nbrs.kneighbors(movie_vector)\n",
    "\n",
    "# Print the titles of the similar movies\n",
    "for index in indices[0][1:]:\n",
    "    print(df.iloc[index]['title_en'])\n"
   ]
  }
 ],
 "metadata": {
  "kernelspec": {
   "display_name": "Python 3",
   "language": "python",
   "name": "python3"
  },
  "language_info": {
   "codemirror_mode": {
    "name": "ipython",
    "version": 3
   },
   "file_extension": ".py",
   "mimetype": "text/x-python",
   "name": "python",
   "nbconvert_exporter": "python",
   "pygments_lexer": "ipython3",
   "version": "3.10.11"
  },
  "orig_nbformat": 4
 },
 "nbformat": 4,
 "nbformat_minor": 2
}
